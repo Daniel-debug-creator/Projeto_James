{
 "cells": [
  {
   "cell_type": "markdown",
   "id": "6864a57a-d5fd-4d75-a50f-146d18a3262b",
   "metadata": {},
   "source": [
    "# Ilum - Escola de Ciência\n",
    "### Projeto Semestral em Prática de Ciência de Dados\n",
    "### Interface de Codificação e Decodificação de textos por Criptografia\n",
    "### Daniel Carrasco, João Otávio, João Pedro e Maria Crist"
   ]
  },
  {
   "cell_type": "markdown",
   "id": "e4fb78e0-9266-42b4-9a49-d34ef4797e9e",
   "metadata": {
    "tags": []
   },
   "source": [
    "## 1. Introdução"
   ]
  },
  {
   "cell_type": "markdown",
   "id": "821a8b83-ef9e-44c3-b420-7968641adf8d",
   "metadata": {},
   "source": [
    "#### A criptografia é uma técnica usada há séculos para proteger informações confidenciais por meio de algoritmos codificadores, que transformam essas informações, geralmente por meio de operações matemáticas, em um texto ilegível, também chamado de texto cifrado, garantindo a integridade e confidencialidade dos dados.\n",
    "\n",
    "#### Atualmente, a criptografia desempenha um papel fundamental em áreas como comunicação online, transações financeiras, proteção de dados, segurança de rede e sistemas e as técnicas para criptografar informações estão se tornando cada vez mais elaboradas."
   ]
  },
  {
   "cell_type": "markdown",
   "id": "27e672e9-c650-4082-9340-d9dabfd25d1b",
   "metadata": {
    "tags": []
   },
   "source": [
    "## 2. Cifra de César"
   ]
  },
  {
   "cell_type": "markdown",
   "id": "07ad094a-0ac5-4160-ab5f-91a8bb5049f4",
   "metadata": {},
   "source": [
    "#### Uma das técnicas clássicas de criptografia é a chamada Cifra de César, que recebe esse nome em referência a Júlio César, o famoso líder militar e estadista romano. A Cifra de César é um tipo de cifra de substituição, onde cada letra do texto original é substituída por outra letra, um número fixo de posições adiante no alfabeto.\n",
    "\n",
    "#### Por exemplo, se utilizarmos um deslocamento de 3 posições, a letra 'A' seria substituída por 'D', 'B' por 'E', 'C' por 'F' e assim por diante. Essa técnica é bastante simples e fácil de entender, mas também é facilmente quebrada, especialmente com o auxílio de computadores, como será visto mais adiante.\n",
    "\n",
    "#### Apesar disso, a Cifra de César possui um valor histórico significativo. Durante o tempo de Júlio César, a técnica era considerada suficientemente segura para comunicações militares básicas. No entanto, com o avanço da computação e técnicas criptográficas mais sofisticadas, a Cifra de César perdeu sua utilidade prática na proteção de informações sensíveis.\n",
    "\n",
    "#### O primeiro passo para a codificação é o processamento de texto para ser criptografado. A função apresentada a seguir recebe uma string e utiliza métodos de lista para formatá-la em um texto sem letras maiúsculas, sem acentuação, sem pontuação e sem caracteres especiais."
   ]
  },
  {
   "cell_type": "code",
   "execution_count": 39,
   "id": "a480c1b5-74d7-4039-aa3a-d73e6c3841e8",
   "metadata": {},
   "outputs": [
    {
     "name": "stdin",
     "output_type": "stream",
     "text": [
      "Insira seu texto para ser formatado:  Os rotores eram discos com contatos elétricos em suas faces internas e externas. Cada rotor tinha um conjunto de ligações elétricas entre os contatos internos e externos, o que resultava em diferentes correspondências entre as letras de entrada e de saída. Os rotores podiam ser configurados de várias maneiras, alterando a ligação elétrica entre os contatos.\n"
     ]
    },
    {
     "name": "stdout",
     "output_type": "stream",
     "text": [
      "\n",
      "O texto analisado será: os rotores eram discos com contatos eletricos em suas faces internas e externas cada rotor tinha um conjunto de ligacoes eletricas entre os contatos internos e externos o que resultava em diferentes correspondencias entre as letras de entrada e de saida os rotores podiam ser configurados de varias maneiras alterando a ligacao eletrica entre os contatos\n"
     ]
    }
   ],
   "source": [
    "import string \n",
    "\n",
    "def formata(texto):\n",
    "    caracteres = list(string.punctuation)\n",
    "\n",
    "    texto_processado = \"\"\n",
    "    for caractere in texto:\n",
    "        if not caractere in caracteres:\n",
    "            texto_processado += caractere\n",
    "\n",
    "    texto_processado = texto_processado.lower()\n",
    "\n",
    "    texto_processado = texto_processado.replace('á', 'a')\n",
    "    texto_processado = texto_processado.replace('à', 'a')\n",
    "    texto_processado = texto_processado.replace('é', 'e')\n",
    "    texto_processado = texto_processado.replace('í', 'i')\n",
    "    texto_processado = texto_processado.replace('ó', 'o')\n",
    "    texto_processado = texto_processado.replace('ú', 'u')\n",
    "    texto_processado = texto_processado.replace('â', 'a')\n",
    "    texto_processado = texto_processado.replace('ê', 'e')\n",
    "    texto_processado = texto_processado.replace('ô', 'o')\n",
    "    texto_processado = texto_processado.replace('û', 'u')\n",
    "    texto_processado = texto_processado.replace('ã', 'a')\n",
    "    texto_processado = texto_processado.replace('õ', 'o')\n",
    "    texto_processado = texto_processado.replace('ç', 'c')\n",
    "    texto_processado = texto_processado.replace('ª', '')\n",
    "    texto_processado = texto_processado.replace('µ', '')\n",
    "    texto_processado = texto_processado.replace('º', '')\n",
    "\n",
    "    return texto_processado\n",
    "\n",
    "texto = input(\"Insira seu texto para ser formatado: \")\n",
    "texto_processado = formata(texto)\n",
    "print()\n",
    "print(\"O texto analisado será:\", texto_processado)"
   ]
  },
  {
   "cell_type": "markdown",
   "id": "da9adce5-a99e-45e2-882b-70559064a56f",
   "metadata": {},
   "source": [
    "### 2.1. Codificação"
   ]
  },
  {
   "cell_type": "markdown",
   "id": "2790c83a-cba8-445e-98ee-0765895825f9",
   "metadata": {},
   "source": [
    "#### Com o texto já processado, podemos definir uma função que funciona codificando um texto usando a Cifra de César, essa função recebe um texto e um passo e retorna o texto criptografado usando Cifra de César de acordo com o passo indicado, mas ignora os caracteres numéricos e não os altera."
   ]
  },
  {
   "cell_type": "code",
   "execution_count": 40,
   "id": "46d295fc-ccc0-49ec-a71d-120b7492bb48",
   "metadata": {},
   "outputs": [
    {
     "name": "stdin",
     "output_type": "stream",
     "text": [
      "Insira seu texto para ser codificado:  Os rotores eram discos com contatos elétricos em suas faces internas e externas. Cada rotor tinha um conjunto de ligações elétricas entre os contatos internos e externos, o que resultava em diferentes correspondências entre as letras de entrada e de saída. Os rotores podiam ser configurados de várias maneiras, alterando a ligação elétrica entre os contatos.\n",
      "Insira o passo a ser usado:  3\n"
     ]
    },
    {
     "name": "stdout",
     "output_type": "stream",
     "text": [
      "\n",
      "rv urwruhv hudp glvfrv frp frqwdwrv hohwulfrv hp vxdv idfhv lqwhuqdv h hawhuqdv fdgd urwru wlqkd xp frqmxqwr gh oljdfrhv hohwulfdv hqwuh rv frqwdwrv lqwhuqrv h hawhuqrv r txh uhvxowdyd hp glihuhqwhv fruuhvsrqghqfldv hqwuh dv ohwudv gh hqwudgd h gh vdlgd rv urwruhv srgldp vhu frqiljxudgrv gh yduldv pdqhludv dowhudqgr d oljdfdr hohwulfd hqwuh rv frqwdwrv\n"
     ]
    }
   ],
   "source": [
    "def cesar(texto, passo):\n",
    "    texto_processado = formata(texto) \n",
    "    letras_minusculas = list(string.ascii_lowercase)\n",
    "    numero = '0123456789'\n",
    "    final = str()\n",
    "    for c in texto_processado:\n",
    "        if c.isalpha():\n",
    "            pos = letras_minusculas.index(c)\n",
    "            new_pos = ((pos + passo) % len(letras_minusculas))\n",
    "            final += letras_minusculas[new_pos]\n",
    "\n",
    "        elif c.isnumeric() or c == ' ':\n",
    "            final += c\n",
    "\n",
    "    return final\n",
    "\n",
    "texto = input(\"Insira seu texto para ser codificado: \")\n",
    "passo = int(input (\"Insira o passo a ser usado: \"))\n",
    "print()\n",
    "print (cesar(texto, passo))"
   ]
  },
  {
   "cell_type": "markdown",
   "id": "e1ba48c2-d42b-4d7d-82fc-02b0d866a816",
   "metadata": {},
   "source": [
    "### 2.2 Decodificação"
   ]
  },
  {
   "cell_type": "markdown",
   "id": "cbe2bfe6-831d-4ce6-9992-2a1929b7945d",
   "metadata": {},
   "source": [
    "#### Decodificar uma mensagem escrita em Cifra de César é simples caso se saiba o passo que foi usado em sua encriptação, a função a seguir faz exatamente isso: recebendo um texto escrito em Cifra de César e o passo usado na sua criptografia, ela retorna o texto original, mas sem considerar os espaços que o texto original tinha."
   ]
  },
  {
   "cell_type": "code",
   "execution_count": 47,
   "id": "99b51dd5-7da6-48ea-ad81-4871228c9f1c",
   "metadata": {},
   "outputs": [
    {
     "name": "stdin",
     "output_type": "stream",
     "text": [
      "Insira o texto a ser decodificado:  rv urwruhv hudp glvfrv frp frqwdwrv hohwulfrv hp vxdv idfhv lqwhuqdv h hawhuqdv fdgd urwru wlqkd xp frqmxqwr gh oljdfrhv hohwulfdv hqwuh rv frqwdwrv lqwhuqrv h hawhuqrv r txh uhvxowdyd hp glihuhqwhv fruuhvsrqghqfldv hqwuh dv ohwudv gh hqwudgd h gh vdlgd rv urwruhv srgldp vhu frqiljxudgrv gh yduldv pdqhludv dowhudqgr d oljdfdr hohwulfd hqwuh rv frqwdwrv\n",
      "Insira o passo usado para codificar:  3\n"
     ]
    },
    {
     "name": "stdout",
     "output_type": "stream",
     "text": [
      "\n",
      "os rotores eram discos com contatos eletricos em suas faces internas e externas cada rotor tinha um conjunto de ligacoes eletricas entre os contatos internos e externos o que resultava em diferentes correspondencias entre as letras de entrada e de saida os rotores podiam ser configurados de varias maneiras alterando a ligacao eletrica entre os contatos\n"
     ]
    }
   ],
   "source": [
    "def cesar(texto, passo):\n",
    "    letras_minusculas = list(string.ascii_lowercase)\n",
    "    numero = '0123456789'\n",
    "    final = \"\"\n",
    "    \n",
    "    for c in texto:\n",
    "        if c.isalpha():\n",
    "            pos = letras_minusculas.index(c)\n",
    "            new_pos = (pos - passo) % len(letras_minusculas)\n",
    "            final += letras_minusculas[new_pos]\n",
    "        elif c.isnumeric() or c == ' ':\n",
    "            final += c\n",
    "\n",
    "    return final\n",
    "\n",
    "texto = input(\"Insira o texto a ser decodificado: \")\n",
    "passo = int(input(\"Insira o passo usado para codificar: \"))\n",
    "print()\n",
    "print(cesar(texto, passo))"
   ]
  },
  {
   "cell_type": "markdown",
   "id": "8a8387e3-5968-4e17-a16a-f9b32b34f4d7",
   "metadata": {},
   "source": [
    "## 3. Decodificação por Frequência de Caracteres"
   ]
  },
  {
   "cell_type": "markdown",
   "id": "836fe0b6-37e2-4025-a147-43ba24b293ff",
   "metadata": {},
   "source": [
    "#### Outra forma de decriptografar uma mensagem é usando frequência de caracteres, chamada de criptoanálise por frequência. Por meio de uma distribuição estatística, é possível observar que, dentro de um texto algumas letras são muito mais frequentes do que outras, isso é influenciado por fatores como o tamanho da palavra ou em qual língua aquele texto foi escrito.\n",
    "\n",
    "#### Com base nisso, se a mensagem foi criptografada usando um método como a Cifra de César, por exemplo, ela ainda segue um padrão de frequência que pode ser analisado estatísticamente, de forma que, se uma letra é a mais frequente em uma mensagem, é provavél que ela corresponda à letra mais frequente em textos daquele determinado idioma. Com base nisso, é possível criar um algoritmo que relaciona os caracteres mais frequentes em cada texto com aqueles mais frequentes na lingua em que a mensagem foi escrita. Nesse caso, serão analisados unicamente textos escritos em português."
   ]
  },
  {
   "cell_type": "markdown",
   "id": "ee3c8e66-61af-4de0-8b08-72f6f8bd505d",
   "metadata": {},
   "source": [
    "### 3.1. Função Conta\n",
    "#### Essa função analisa os caracteres presentes em um determinado texto e retorna um dicionário com as frequências (em porcentagem) de cada letra no texto, ordenadas em ordem decrescente com base na porcentagem que cada letra aparece. Algo a ser comentado éque a partir dessa função, os espaços serão desconsiderados, para que eles não interfiram na análise estatísticas."
   ]
  },
  {
   "cell_type": "code",
   "execution_count": 55,
   "id": "19f8a817-92ac-49f7-a11e-5590273758ab",
   "metadata": {},
   "outputs": [],
   "source": [
    "def contar(texto):\n",
    "    total = len(texto)\n",
    "\n",
    "    dicionario = {}\n",
    "\n",
    "    for letra in texto:\n",
    "        if letra.isalpha():\n",
    "            a = texto.count(letra)\n",
    "            dicionario.update({letra: ((a / total) * 100)})\n",
    "\n",
    "    return dict(sorted(dicionario.items(), key=lambda x: x[1], reverse=True))"
   ]
  },
  {
   "cell_type": "markdown",
   "id": "2213cfff-9f1e-4d4b-ab77-c09c3eb5a1da",
   "metadata": {
    "tags": []
   },
   "source": [
    "### 3.2. Função substituir no texto"
   ]
  },
  {
   "cell_type": "code",
   "execution_count": 49,
   "id": "13199635-4c99-46da-8d3a-b38624068b70",
   "metadata": {},
   "outputs": [],
   "source": [
    "def substituir_no_texto(texto, substitui):\n",
    "    texto_velho = texto\n",
    "    novo = []\n",
    "    for letra in texto_velho:\n",
    "        if letra.isalpha():\n",
    "            novo.append(substitui[letra])\n",
    "        else:\n",
    "            novo.append(letra)\n",
    "    text_novo = ''\n",
    "    return text_novo.join(novo)"
   ]
  },
  {
   "cell_type": "markdown",
   "id": "9cf7dac4-547f-4188-bfe8-b2cbeaabc92a",
   "metadata": {},
   "source": [
    "### 3.3 Função comparar e Função Comparar Linear\n",
    "#### Com base nos valores obtidos para a frequência de caracteres naquele texto, temos dois métodos para fazer uma comparação entre esses valores e os valores da frequência dos caracteres na lingua portuguesa. A primeira forma é feita tendo com base a diferença entre esses valores obtidos, e dessa forma, escolher qual letra substituir com base na menor diferença entre esses valores. Exemplificando: se uma letra tem frequência 8,5% no texto e existem duas letras em portugues com frequências 5,5% e 8,0%, a função irá escolher substituir a letra criptografada por aquela com frequência 8,0%, pois a diferença (delta) entre elas é menor.\n",
    "\n",
    "#### Outra forma de fazer essa substituição é fazendo uma comparação linear. Aqui, como o nome sugere, o caracter mais frequente no texto será substituido pelo mais frequente na língua portuguesa, o segundo pelo segundo mais frequente e assim por diante, em uma substituição linear."
   ]
  },
  {
   "cell_type": "code",
   "execution_count": 50,
   "id": "d4716d29-2ec8-4680-bf42-896b986133c7",
   "metadata": {},
   "outputs": [],
   "source": [
    "def comparar(enig, compa):\n",
    "\n",
    "    letra_eng = list(enig.keys())\n",
    "    porc_eng = list(enig.values())\n",
    "    letra_por = list(compa.keys())\n",
    "    porc_por = list(compa.values())\n",
    "    resultado_lista = []\n",
    "    resultado_tupla = {}\n",
    "    for eng in porc_eng:\n",
    "        delta = []\n",
    "        for prob in porc_por:\n",
    "            delta.append(abs(eng-prob))\n",
    "        index = delta.index(min(delta))\n",
    "        resultado_lista.append(letra_por[index])\n",
    "    for n, c in enumerate(letra_eng):\n",
    "        resultado_tupla[c] = resultado_lista[n]\n",
    "\n",
    "    return resultado_tupla\n",
    "\n",
    "def comparar_linear(enig, compa):\n",
    "\n",
    "    letra_eng = list(enig.keys())\n",
    "    porc_eng = list(enig.values())\n",
    "    letra_por = list(compa.keys())\n",
    "    porc_por = list(compa.values())\n",
    "\n",
    "    resultado = {}\n",
    "    compa_ord = sorted(compa.items(), key=lambda x: x[1], reverse=True)\n",
    "    print(compa_ord)\n",
    "\n",
    "    for c in range(0, len(enig)):\n",
    "        resultado[list(enig.keys())[c]] = list(compa_ord)[c][0]\n",
    "    return resultado"
   ]
  },
  {
   "cell_type": "markdown",
   "id": "9aa43e14-2493-4109-a212-474c1f19dbb3",
   "metadata": {},
   "source": [
    "## Código main\n",
    "#### Finalmente, com todas as funções que serão usadas para essa parte de decriptografia definidas, é hora de juntar todas elas em um algoritmo que decriptografa mensagens baseado na frequê"
   ]
  },
  {
   "cell_type": "code",
   "execution_count": 54,
   "id": "86c2a3a1-d250-4034-8c73-9554a8b2f754",
   "metadata": {},
   "outputs": [
    {
     "name": "stdin",
     "output_type": "stream",
     "text": [
      "Escreva seu texto aqui: Os rotores eram discos com contatos elétricos em suas faces internas e externas. Cada rotor tinha um conjunto de ligações elétricas entre os contatos internos e externos, o que resultava em diferentes correspondências entre as letras de entrada e de saída. Os rotores podiam ser configurados de várias maneiras, alterando a ligação elétrica entre os contatos.\n"
     ]
    },
    {
     "name": "stdout",
     "output_type": "stream",
     "text": [
      "\n",
      "1) Frequência na Língua Portuguesa:\n",
      "[('a', 14.63), ('e', 12.57), ('o', 10.73), ('s', 7.81), ('r', 6.53), ('i', 6.18), ('n', 5.05), ('d', 4.99), ('m', 4.74), ('u', 4.63), ('t', 4.34), ('c', 3.88), ('l', 2.78), ('p', 2.52), ('v', 1.67), ('g', 1.3), ('h', 1.28), ('q', 1.2), ('b', 1.04), ('f', 1.02), ('z', 0.47), ('j', 0.4), ('x', 0.21), ('k', 0.02), ('w', 0.01), ('y', 0.01)]\n",
      "\n",
      "2) Texto original formatado:\n",
      "os rotores eram discos com contatos eletricos em suas faces internas e externas cada rotor tinha um conjunto de ligacoes eletricas entre os contatos internos e externos o que resultava em diferentes correspondencias entre as letras de entrada e de saida os rotores podiam ser configurados de varias maneiras alterando a ligacao eletrica entre os contatos\n",
      "\n",
      "3) Texto na Cifra de César:\n",
      "mq pmrmpcq cpyk bgqamq amk amlryrmq cjcrpgamq ck qsyq dyacq glrcplyq c cvrcplyq ayby pmrmp rglfy sk amlhslrm bc jgeyamcq cjcrpgayq clrpc mq amlryrmq glrcplmq c cvrcplmq m osc pcqsjryty ck bgdcpclrcq amppcqnmlbclagyq clrpc yq jcrpyq bc clrpyby c bc qygby mq pmrmpcq nmbgyk qcp amldgespybmq bc typgyq kylcgpyq yjrcpylbm y jgeyaym cjcrpgay clrpc mq amlryrmq\n",
      "\n",
      "4) Frequência do texto:\n",
      "{'c': 12.429378531073446, 'y': 9.6045197740113, 'm': 9.03954802259887, 'q': 9.03954802259887, 'p': 7.909604519774012, 'r': 7.344632768361582, 'l': 6.214689265536723, 'g': 4.519774011299435, 'a': 4.519774011299435, 'b': 3.672316384180791, 'j': 2.2598870056497176, 'k': 1.977401129943503, 's': 1.694915254237288, 'd': 0.847457627118644, 'e': 0.847457627118644, 'v': 0.5649717514124294, 't': 0.5649717514124294, 'n': 0.5649717514124294, 'f': 0.2824858757062147, 'h': 0.2824858757062147, 'o': 0.2824858757062147}\n",
      "\n",
      "5) Associação de menor delta:\n",
      "{'c': 'e', 'y': 'o', 'm': 's', 'q': 's', 'p': 's', 'r': 's', 'l': 'i', 'g': 'u', 'a': 'u', 'b': 'c', 'j': 'p', 'k': 'v', 's': 'v', 'd': 'f', 'e': 'f', 'v': 'z', 't': 'z', 'n': 'z', 'f': 'x', 'h': 'x', 'o': 'x'}\n",
      "\n",
      "6) Associação linear:\n",
      "{'c': 'a', 'y': 'e', 'm': 'o', 'q': 's', 'p': 'r', 'r': 'i', 'l': 'n', 'g': 'd', 'a': 'm', 'b': 'u', 'j': 't', 'k': 'c', 's': 'l', 'd': 'p', 'e': 'v', 'v': 'g', 't': 'h', 'n': 'q', 'f': 'b', 'h': 'f', 'o': 'z'}\n",
      "\n",
      "7) Texto final por menor delta:\n",
      "ss ssssses esov cususs usv usisosss epessuuss ev svos foues uisesios e ezsesios uoco sssss suixo vv usixviss ce pufouses epessuuos eisse ss usisosss uisesiss e ezsesiss s xve sesvpsozo ev cufeseises ussseszsiceiuuos eisse os pessos ce eissoco e ce souco ss ssssses zscuov ses usifufvsocss ce zosuos voieusos opsesoics o pufouos epessuuo eisse ss usisosss\n",
      "\n",
      "8) Texto final por associação linear:\n",
      "os roioras arec udsmos moc monieios atairdmos ac sles pemas dniarnes a agiarnes meue roior idnbe lc monflnio ua tdvemoas atairdmes anira os monieios dniarnos a agiarnos o zla rasltiehe ac udparanias morrasqonuanmdes anira es taires ua anireue a ua sedue os roioras qoudec sar monpdvlreuos ua herdes cenadres etiarenuo e tdvemeo atairdme anira os monieios\n"
     ]
    }
   ],
   "source": [
    "texto_main = input (\"Escreva seu texto aqui:\")\n",
    "print()\n",
    "print(\"1) Frequência na Língua Portuguesa:\")\n",
    "frequencias = {\n",
    "    'a': 14.63,\n",
    "    'b': 1.04,\n",
    "    'c': 3.88,\n",
    "    'd': 4.99,\n",
    "    'e': 12.57,\n",
    "    'f': 1.02,\n",
    "    'g': 1.30,\n",
    "    'h': 1.28,\n",
    "    'i': 6.18,\n",
    "    'j': 0.40,\n",
    "    'k': 0.02,\n",
    "    'l': 2.78,\n",
    "    'm': 4.74,\n",
    "    'n': 5.05,\n",
    "    'o': 10.73,\n",
    "    'p': 2.52,\n",
    "    'q': 1.20,\n",
    "    'r': 6.53,\n",
    "    's': 7.81,\n",
    "    't': 4.34,\n",
    "    'u': 4.63,\n",
    "    'v': 1.67,\n",
    "    'w': 0.01,\n",
    "    'x': 0.21,\n",
    "    'y': 0.01,\n",
    "    'z': 0.47\n",
    "}\n",
    "\n",
    "# Exemplo de uso:\n",
    "#letra = 'a'\n",
    "#frequencia = frequencias.get(letra)\n",
    "\n",
    "\n",
    "forma = formata(texto_main)\n",
    "ces = cesar(forma, 2)\n",
    "ene = contar(ces)\n",
    "resultado = comparar(ene, frequencias)\n",
    "resultado2 = comparar_linear(ene, frequencias)\n",
    "print()\n",
    "print(\"2) Texto original formatado:\")\n",
    "print(forma)\n",
    "print()\n",
    "print(\"3) Texto na Cifra de César:\")\n",
    "print(ces)\n",
    "print()\n",
    "print(\"4) Frequência do texto:\")\n",
    "print(ene)\n",
    "print()\n",
    "print(\"5) Associação de menor delta:\")\n",
    "print(resultado)\n",
    "print()\n",
    "print(\"6) Associação linear:\")\n",
    "print(resultado2)\n",
    "print()\n",
    "print(\"7) Texto final por menor delta:\")\n",
    "print(substituir_no_texto(ces, resultado))\n",
    "print()\n",
    "print(\"8) Texto final por associação linear:\")\n",
    "print(substituir_no_texto(ces, resultado2))"
   ]
  },
  {
   "cell_type": "markdown",
   "id": "99781a7d-a9ed-416b-9af9-f3329f86da6f",
   "metadata": {},
   "source": [
    "#### Agora, podemos por meio desses dois histogramas, comparar as frequências dos caracteres do texto com os caracteres da lingua portuguesa"
   ]
  },
  {
   "cell_type": "code",
   "execution_count": 56,
   "id": "b20610af-5fd8-4d77-9b80-260708da2bd4",
   "metadata": {},
   "outputs": [
    {
     "data": {
      "image/png": "[encoded data removed]",
      "text/plain": [
       "<Figure size 640x480 with 1 Axes>"
      ]
     },
     "metadata": {},
     "output_type": "display_data"
    }
   ],
   "source": [
    "import matplotlib.pyplot as plt\n",
    "\n",
    "# Ordenar os valores em ordem crescente\n",
    "dados_ordenados = sorted(frequencias.items(), key=lambda x: x[1])\n",
    "\n",
    "chaves = [item[0] for item in dados_ordenados]\n",
    "valores = [item[1] for item in dados_ordenados]\n",
    "\n",
    "plt.bar(chaves, valores)\n",
    "plt.xlabel('Carácter')\n",
    "plt.ylabel('Frequência')\n",
    "plt.title('Histograma de frequência de letras na língua portuguesa')\n",
    "\n",
    "plt.show()"
   ]
  },
  {
   "cell_type": "code",
   "execution_count": 57,
   "id": "27d0d2cc-0813-4cf7-8ecd-aa1a3e988288",
   "metadata": {},
   "outputs": [
    {
     "data": {
      "image/png": "[encoded data removed]",
      "text/plain": [
       "<Figure size 640x480 with 1 Axes>"
      ]
     },
     "metadata": {},
     "output_type": "display_data"
    }
   ],
   "source": [
    "dados_ordenados1 = sorted(ene.items(), key=lambda x: x[1])\n",
    "\n",
    "chaves = [item[0] for item in dados_ordenados1]\n",
    "valores = [item[1] for item in dados_ordenados1]\n",
    "\n",
    "plt.bar(chaves, valores)\n",
    "plt.xlabel('Carácter')\n",
    "plt.ylabel('Frequência')\n",
    "plt.title('Histograma de frequência das letras no texto criptografado')\n",
    "\n",
    "plt.show()"
   ]
  },
  {
   "cell_type": "markdown",
   "id": "67051fe5-4547-456f-b806-f566ff044e70",
   "metadata": {},
   "source": [
    "### 3.2. Correção Manual do Texto"
   ]
  },
  {
   "cell_type": "markdown",
   "id": "5abac517-2b20-4d82-9c2f-1c3f09c34975",
   "metadata": {},
   "source": [
    "#### Como pode ser visto na decriptografia feita anteriormente, ela possui algumas limitações: a primeira é o fato de que essa distribuição de frequência é puramente estatística. Ou seja, quanto maior o texto, mais provável que a distribuição de frequências seja parecida com aquela apresentada no histograma. Assim, com um texto pequeno, ou apenas uma palavra, esse tipo de análise se torna um pouco mais complexa (e o código apresentado se torna praticamete inefetivo). Outra dificuldade encontrada é o fato de que algumas letras têm frequências muito parecidas, o que faz com que essa substituição possa ser errônea às vezes.\n",
    "\n",
    "#### Com isso em mente, o código acima pode ser mais útil com um pequeno toque humano de correção, a fim de substituir algumas letras que foram incorretamente decriptografadas por outras. É exatamete isso que o código apresentado abaixo faz: recebendo um texto, pode-se fazer quantas substituições de caracteres forem necessárias, de forma que ele se torne mais legível para olhos humanos. "
   ]
  },
  {
   "cell_type": "code",
   "execution_count": 58,
   "id": "762bf8f7-c76b-4a33-bebc-2a560c13577e",
   "metadata": {},
   "outputs": [
    {
     "name": "stdin",
     "output_type": "stream",
     "text": [
      "Quantas substituições você deseja fazer?  3\n",
      "Digite o caractere original:  i\n",
      "Digite o caractere substituto:  t\n",
      "Digite o caractere original:  a\n",
      "Digite o caractere substituto:  e\n",
      "Digite o caractere original:  e\n",
      "Digite o caractere substituto:  a\n",
      "Escreva seu texto aqui: os roioras arec udsmos moc monieios atairdmos ac sles pemas dniarnes a agiarnes meue roior idnbe lc monflnio ua tdvemoas atairdmes anira os monieios dniarnos a agiarnos o zla rasltiehe ac udparanias morrasqonuanmdes anira es taires ua anireue a ua sedue os roioras qoudec sar monpdvlreuos ua herdes cenadres etiarenuo e tdvemeo atairdme anira os monieios\n"
     ]
    },
    {
     "name": "stdout",
     "output_type": "stream",
     "text": [
      "\n",
      "Texto com substituições:\n",
      "os rotores erac udsmos moc montatos etetrdmos ec slas pames dnternas e egternas maua rotor tdnba lc monflnto ue tdvamoes etetrdmas entre os montatos dnternos e egternos o zle reslttaha ec udperentes morresqonuenmdas entre as tetras ue entraua e ue sadua os rotores qoudac ser monpdvlrauos ue hardas canedras atteranuo a tdvamao etetrdma entre os montatos\n"
     ]
    }
   ],
   "source": [
    "substituicoes = {}\n",
    "\n",
    "qtde_substituicoes = int(input(\"Quantas substituições você deseja fazer? \"))\n",
    "\n",
    "for _ in range(qtde_substituicoes):\n",
    "    caractere_original = input(\"Digite o caractere original: \")\n",
    "    caractere_substituto = input(\"Digite o caractere substituto: \")\n",
    "    substituicoes[caractere_original] = caractere_substituto\n",
    "\n",
    "texto = input (\"Escreva seu texto aqui:\")\n",
    "\n",
    "tabela_translacao = texto.maketrans(substituicoes)\n",
    "novo_texto = texto.translate(tabela_translacao)\n",
    "\n",
    "print()\n",
    "print(\"Texto com substituições:\")\n",
    "print(novo_texto)"
   ]
  },
  {
   "cell_type": "markdown",
   "id": "63d2e080-a083-4d4d-9dd1-d5fa1416276f",
   "metadata": {},
   "source": [
    "### 3.3. Correção Usando Bibliotecas de Linguagem Natural\n",
    "#### Apos as correções manuais executadas no texto, uma boa opção para torná-lo mais legível é usar uma biblioteca de correção de linguagem natural. Nesse caso, aqui será usada a biblioteca NLTK, que por teoria de:\n",
    "\n",
    "#### Tokenização: processo de dividir o texto em unidades menores, chamadas tokens, como palavras ou sentenças. A biblioteca NLTK fornece métodos para tokenizar texto em palavras individuais usando a função word_tokenize().\n",
    "\n",
    "#### Lematização: processo de reduzir uma palavra à sua forma base ou \"lema\", útil para tratar diferentes formas de uma palavra como variantes do mesmo lema. A biblioteca NLTK oferece acesso ao WordNet, um dicionário léxico, que contém informações sobre palavras, incluindo seus lemas. Você pode usar o WordNet para obter lemas de palavras usando a função lemmas().\n",
    "\n",
    "#### WordNet: uma base de dados lexical que contém informações sobre palavras, seus significados e relacionamentos semânticos. Ele pode ser usado para obter informações sobre palavras, como suas definições, sinônimos, antônimos e hiperônimos. Para correção ortográfica, você pode usar o WordNet para verificar se uma palavra está no dicionário ou obter sugestões de correção com base em palavras similares.\n",
    "\n",
    "#### Stopwords: que são palavras comuns que geralmente não contêm informações significativas para análise de texto, como artigos, preposições e pronomes. A biblioteca NLTK fornece uma lista de stopwords em vários idiomas, incluindo o português. Durante a correção ortográfica, você pode verificar se uma palavra é uma stopwords e optar por não corrigi-la.\n",
    "\n",
    "#### * OBS: O teste desta biblioteca foi realizado no HPC da Ilum - Escola de Ciência. Os textos gerados por esta biblioteca, no último teste: 20/06/2023, estavam mostrando correções ortográficas muito ruins, no entando, podem ser feitas alterações no código para melhorar a usabilidade desta biblioteca. *"
   ]
  },
  {
   "cell_type": "code",
   "execution_count": null,
   "id": "fef594de-4c56-46a6-8d38-7b546bb9855d",
   "metadata": {},
   "outputs": [],
   "source": [
    "!pip install nltk"
   ]
  },
  {
   "cell_type": "code",
   "execution_count": 67,
   "id": "fe3bfd68-cd20-41bf-9c4c-32b81ab8850e",
   "metadata": {},
   "outputs": [
    {
     "ename": "ModuleNotFoundError",
     "evalue": "No module named 'nltk'",
     "output_type": "error",
     "traceback": [
      "\u001b[1;31m---------------------------------------------------------------------------\u001b[0m",
      "\u001b[1;31mModuleNotFoundError\u001b[0m                       Traceback (most recent call last)",
      "Cell \u001b[1;32mIn [67], line 1\u001b[0m\n\u001b[1;32m----> 1\u001b[0m \u001b[38;5;28;01mimport\u001b[39;00m \u001b[38;5;21;01mnltk\u001b[39;00m\n\u001b[0;32m      2\u001b[0m \u001b[38;5;28;01mfrom\u001b[39;00m \u001b[38;5;21;01mnltk\u001b[39;00m\u001b[38;5;21;01m.\u001b[39;00m\u001b[38;5;21;01mtokenize\u001b[39;00m \u001b[38;5;28;01mimport\u001b[39;00m word_tokenize\n\u001b[0;32m      3\u001b[0m \u001b[38;5;28;01mfrom\u001b[39;00m \u001b[38;5;21;01mnltk\u001b[39;00m\u001b[38;5;21;01m.\u001b[39;00m\u001b[38;5;21;01mcorpus\u001b[39;00m \u001b[38;5;28;01mimport\u001b[39;00m wordnet\n",
      "\u001b[1;31mModuleNotFoundError\u001b[0m: No module named 'nltk'"
     ]
    }
   ],
   "source": [
    "import nltk\n",
    "from nltk.tokenize import word_tokenize\n",
    "from nltk.corpus import wordnet\n",
    "from nltk.corpus import stopwords\n",
    "from nltk.metrics import edit_distance\n",
    "\n",
    " \n",
    "\n",
    "# Baixe os recursos necessários\n",
    "nltk.download('punkt')\n",
    "nltk.download('wordnet')\n",
    "nltk.download('stopwords')\n",
    "\n",
    "nltk.download('omw-1.4')\n",
    "\n",
    " \n",
    "\n",
    "def corrigir_texto(texto):\n",
    "    # Tokenize o texto em palavras\n",
    "    tokens = word_tokenize(texto, language='portuguese')\n",
    "    palavras_corrigidas = []\n",
    "\n",
    "    for token in tokens:\n",
    "        # Verifique se a palavra é alfabética\n",
    "        if token.isalpha():\n",
    "            palavra_corrigida = corrigir_palavra(token)\n",
    "            palavras_corrigidas.append(palavra_corrigida)\n",
    "        else:\n",
    "            palavras_corrigidas.append(token)\n",
    "\n",
    "    texto_corrigido = \" \".join(palavras_corrigidas)\n",
    "    return texto_corrigido\n",
    "\n",
    " \n",
    "\n",
    "def corrigir_palavra(palavra):\n",
    "    palavra = palavra.lower()\n",
    "\n",
    "    # Verifique se a palavra está na lista de stopwords\n",
    "    if palavra in stopwords.words('portuguese'):\n",
    "        return palavra\n",
    "\n",
    "    # Verifique se a palavra está no dicionário\n",
    "    if wordnet.synsets(palavra, lang='por'):\n",
    "        return palavra\n",
    "\n",
    "    # Gerar sugestões de correção com base em palavras similares\n",
    "    sugeridas = palavra_correta_sugerida(palavra)\n",
    "    if sugeridas:\n",
    "        return sugeridas[0]\n",
    "\n",
    "    return palavra\n",
    "\n",
    " \n",
    "\n",
    "def palavra_correta_sugerida(palavra):\n",
    "    sugestoes = []\n",
    "\n",
    "    # Obtenha o tamanho da palavra\n",
    "    tamanho_palavra = len(palavra)\n",
    "\n",
    "    # Gerar sugestões com base em palavras similares\n",
    "    for palavra_dict in wordnet.words('por'):\n",
    "        if len(palavra_dict) == tamanho_palavra:\n",
    "            distancia = edit_distance(palavra, palavra_dict)\n",
    "            if distancia <= 2:\n",
    "                sugestoes.append(palavra_dict)\n",
    "\n",
    "    return sugestoes\n",
    "\n",
    " \n",
    "\n",
    "# Solicite o texto ao usuário\n",
    "texto = input(\"Digite o texto a ser corrigido: \")\n",
    "\n",
    " \n",
    "\n",
    "# Corrija o texto\n",
    "texto_corrigido = corrigir_texto(texto)\n",
    "print(\"Texto corrigido:\", texto_corrigido)"
   ]
  },
  {
   "cell_type": "markdown",
   "id": "e0b9d486-13ac-49f9-8bac-015e52bead6e",
   "metadata": {},
   "source": [
    "## 4. Máquina Enigma"
   ]
  },
  {
   "cell_type": "markdown",
   "id": "94a45068-a81a-48db-b24d-366346fd773d",
   "metadata": {},
   "source": [
    "#### A máquina Enigma foi inventada pelo engenheiro alemão Arthur Scherbius no final da Segunda Guerra Mundial, mas é conhecida pelo seu extenso uso para comunicação secreta pela Alemanha Nazista durante a Segunda Guerra, sendo considerada extremamente segura na época.\n",
    "#### A máquina Enigma era uma máquina eletromecânica composta por um teclado, um conjunto de rotores, um painel de lâmpadas e um mecanismo de impressão. O processo de criptografia envolvia a entrada de uma letra no teclado, que era então cifrada por meio de uma série de transformações realizadas pelos rotores. \n",
    "#### Quando uma letra era digitada no teclado, um sinal elétrico passava pelo circuito interno da máquina, atravessando os rotores. Cada rotor girava após cada tecla pressionada, alterando a ligação elétrica interna e, consequentemente, a correspondência das letras. O sinal passava por uma série de rotores, refletia em um refletor e retornava pelo mesmo caminho até ser iluminado por uma lâmpada correspondente à letra cifrada.\n",
    "#### Para a leitura da mensagem criptografada, o destinatário deveria configurar a sua máquina com as mesmas configurações da máquina que criptografou a mensagem. Ao digitar a letra cifrada, o sinal elétrico percorria novamente o caminho inverso pelos rotores, refletor e lâmpadas, passando pelas mesmas ligações elétricas e, assim, decifrando a letra original."
   ]
  },
  {
   "cell_type": "markdown",
   "id": "ad0993e3-3380-4db8-9897-802c7e5a2c4d",
   "metadata": {},
   "source": [
    "### 4.1. Função Plugboard\n",
    "#### Essa função simula o que acontece no plugboard, que é uma substituição dos valores (nesse caso, as letras)."
   ]
  },
  {
   "cell_type": "code",
   "execution_count": 61,
   "id": "10702992-953d-4d84-889b-b3577f58c8a4",
   "metadata": {},
   "outputs": [],
   "source": [
    "def plugboard(texto, dic_de_substituicao):\n",
    "    texto_new = ''\n",
    "    for i in texto:\n",
    "        texto_new += i.replace(i, dic_de_substituicao[i])\n",
    "    return texto_new"
   ]
  },
  {
   "cell_type": "markdown",
   "id": "bc7dbc03-e210-40c0-9376-a792085841af",
   "metadata": {},
   "source": [
    "### 4.2. Função Rotors\n",
    "#### Essa função simula a função dos rotores, ou seja, a rotação das letras que acontece dentro da Máquina Enigma durante o processo de criptpgrafia"
   ]
  },
  {
   "cell_type": "code",
   "execution_count": 79,
   "id": "a1cac5bf-719a-42a3-a74c-cb73fd0c1fbc",
   "metadata": {},
   "outputs": [],
   "source": [
    "def rotor(letra, dic_de_substituicao, giro):\n",
    "    #simula o giro que ocorre no rotor, \"girando as letras\"\n",
    "    letras = ['a', 'b', 'c', 'd', 'e', 'f', 'g', 'h', 'i', 'j', 'k', 'l', 'm', 'n', 'o', 'p', 'q', 'r', 's', 't', 'u', 'v', 'w', 'x', 'y', 'z']\n",
    "    final = ''\n",
    "    pos = letras.index(letra)\n",
    "    pg = (pos + giro) % 26\n",
    "    new_pos = pg\n",
    "    final += letras[new_pos]\n",
    "\n",
    "    # simula a substituição que ocorre dentro do rotor\n",
    "    texto_rotor = dic_de_substituicao[final]\n",
    "\n",
    "    # retorna o final\n",
    "    return texto_rotor\n",
    "\n",
    "\n",
    "def rotor_inverso(letra_inv, dic_substituicao, giro):\n",
    "    # a mesma coisa que ocorre no rotor, mas como isso é a volta tem que substituir primeiro e depois gira\n",
    "\n",
    "    # substitui\n",
    "    letras = ['a', 'b', 'c', 'd', 'e', 'f', 'g', 'h', 'i', 'j', 'k', 'l', 'm', 'n', 'o', 'p', 'q', 'r', 's',\n",
    "              't', 'u', 'v', 'w', 'x', 'y', 'z']\n",
    "    letra_sub = dic_substituicao[letra_inv]\n",
    "\n",
    "    final = ''\n",
    "    # responsavel pela parte que gira\n",
    "    pos = letras.index(letra_sub)\n",
    "    new_pos = pos - giro\n",
    "    final += letras[new_pos]\n",
    "\n",
    "    return final\n",
    "\n",
    "\n",
    "def rotores(texto, rotor_1, rotor_2, rotor_3, giro1, giro2, giro3, dic_sub_meio):\n",
    "    # simula o giro de varios rotores juntos\n",
    "\n",
    "    # divide o texto por letra já que na maquina era feita uma por fez\n",
    "    texto_quase_final = ''\n",
    "    for letra in texto:\n",
    "        # simula o giro que ocorre quando uma tecla é apertada\n",
    "        if giro1 + 1 <= 25:\n",
    "            giro1 += 1\n",
    "        else:\n",
    "            giro1 = 0\n",
    "            if giro2 <= 25:\n",
    "                giro2 += 1\n",
    "            else:\n",
    "                giro2 = 0\n",
    "                if giro3 <= 25:\n",
    "                    giro3 += 1\n",
    "                else:\n",
    "                    giro3 = 0\n",
    "\n",
    "        # giro dos três motores\n",
    "        letra1 = rotor(letra, rotor_1, giro1)\n",
    "        letra2 = rotor(letra1, rotor_2, giro2)\n",
    "        letra3 = rotor(letra2, rotor_3, giro3)\n",
    "\n",
    "        #reflector\n",
    "        letra4 = dic_sub_meio[letra3]\n",
    "\n",
    "        #giro dos três motores na volta\n",
    "        letra5 = rotor_inverso(letra4, rotor_3, giro3)\n",
    "        letra6 = rotor_inverso(letra5, rotor_2, giro2)\n",
    "        letra7 = rotor_inverso(letra6, rotor_1, giro1)\n",
    "\n",
    "        texto_quase_final += letra7\n",
    "\n",
    "    return texto_quase_final"
   ]
  },
  {
   "cell_type": "markdown",
   "id": "08d6dba4-c6aa-489e-b97b-09059def930c",
   "metadata": {},
   "source": [
    "### 4.3. Função Criar Dicionário\n",
    "#### Nesse código é usado um dicionário de substituições, para facilitar esse processo, foi criado um dicionário para isso."
   ]
  },
  {
   "cell_type": "code",
   "execution_count": 64,
   "id": "32831cf9-103f-4a38-a40f-5e60f12b2038",
   "metadata": {},
   "outputs": [],
   "source": [
    "import random\n",
    "\n",
    "\n",
    "def criar_dic():\n",
    "    lista = ['a', 'b', 'c', 'd', 'e', 'f', 'g', 'h', 'i', 'j', 'k', 'l', 'm', 'n', 'o', 'p', 'q', 'r', 's', 't', 'u',\n",
    "             'v', 'w', 'x', 'y', 'z']\n",
    "\n",
    "    random.shuffle(lista)\n",
    "    dic_de_substituicao = {}\n",
    "    for i in range(0,13):\n",
    "        x = str(lista.pop())\n",
    "        y = str(lista.pop())\n",
    "        dic_de_substituicao.update({x: y})\n",
    "        dic_de_substituicao.update({y: x})\n",
    "    return dic_de_substituicao"
   ]
  },
  {
   "cell_type": "markdown",
   "id": "10c779ee-20f7-4c02-aced-c1e8214c7e0d",
   "metadata": {},
   "source": [
    "### 4.4 Função Máquina Enigma\n",
    "#### Juntando todas essas funções, temos o código que simula a criptografia da Máquina Enigma."
   ]
  },
  {
   "cell_type": "code",
   "execution_count": 80,
   "id": "06df1f98-bf8c-4b29-b2eb-bee1221c65cb",
   "metadata": {},
   "outputs": [
    {
     "name": "stdin",
     "output_type": "stream",
     "text": [
      "insira o texto Essa função analisa os caracteres presentes em um determinado texto e retorna um dicionário com as frequências (em porcentagem) de cada letra no texto, ordenadas em ordem decrescente com base na porcentagem que cada letra aparece. Algo a ser comentado éque a partir dessa função, os espaços serão desconsiderados, para que eles não interfiram na análise estatísticas.\n"
     ]
    },
    {
     "name": "stdout",
     "output_type": "stream",
     "text": [
      "hdxieodobcylkefqnerrpgcwhsssyzbgtbzqmespqugpxcirkaegcjxqnzmlwmhyfiqfndpmcqglgzxauourvxjirzdzgtbhsnttkzlqvlnmqozvlyqdckbffzfjjbusqsbxymauenpazlmjepdhhenwaspwwzfyvcwibcpkkiuxdnzibcynbvbtqsxcispjpuailbvuzcmqaktxpuyvpflkhufmaxlfhdvymxejjxfvhakqqtigxtfzdojezdzuoteuibmaajykyfjbeulejjprhzdurzplyqodzpzzwjpzdmko\n"
     ]
    }
   ],
   "source": [
    "lista = ['a', 'b', 'c', 'd', 'e', 'f', 'g', 'h', 'i', 'j', 'k', 'l', 'm', 'n', 'o', 'p', 'q', 'r', 's', 't', 'u', 'v', 'w', 'x', 'y', 'z']\n",
    "\n",
    "# dicionario da substituição que vão ser realizadas no plug_board\n",
    "\n",
    "dic_de_substituicao={'g': 'e', 'e': 'g', 'f': 'c', 'c': 'f', 'n': 'l', 'l': 'n', 'a': 'o', 'o': 'a', 'y': 'm', 'm': 'y', 't': 's', 's': 't', 'v': 'z', 'z': 'v', 'h': 'k', 'k': 'h', 'i': 'u', 'u': 'i', 'q': 'b', 'b': 'q', 'p': 'w', 'w': 'p', 'd': 'r', 'r': 'd', 'x': 'j', 'j': 'x'}\n",
    "\n",
    "# substituição que vai ser realizada no rotor1\n",
    "rotor1 = {'g': 'f', 'f': 'g', 'l': 'q', 'q': 'l', 'i': 'y', 'y': 'i', 'm': 'b', 'b': 'm', 'w': 'k', 'k': 'w', 'r': 'e', 'e': 'r', 'h': 'd', 'd': 'h', 'j': 'c', 'c': 'j', 'p': 'u', 'u': 'p', 'n': 't', 't': 'n', 's': 'x', 'x': 's', 'z': 'v', 'v': 'z', 'o': 'a', 'a': 'o'}\n",
    "\n",
    "# substituição que vai ser realizada no rotor2\n",
    "rotor2 = {'v': 'g', 'g': 'v', 'b': 'j', 'j': 'b', 'm': 's', 's': 'm', 'c': 'i', 'i': 'c', 'k': 'z', 'z': 'k', 'r': 'u', 'u': 'r', 'e': 'y', 'y': 'e', 'p': 'x', 'x': 'p', 'o': 'd', 'd': 'o', 't': 'n', 'n': 't', 'l': 'q', 'q': 'l', 'a': 'h', 'h': 'a', 'f': 'w', 'w': 'f'}\n",
    "\n",
    "# substituição que vai ser realizada no rotor3\n",
    "rotor3 = {'j': 'a', 'a': 'j', 'b': 'm', 'm': 'b', 't': 'f', 'f': 't', 'w': 'e', 'e': 'w', 'n': 's', 's': 'n', 'v': 'p', 'p': 'v', 'y': 'g', 'g': 'y', 'l': 'h', 'h': 'l', 'k': 'r', 'r': 'k', 'q': 'c', 'c': 'q', 'i': 'u', 'u': 'i', 'd': 'o', 'o': 'd', 'x': 'z', 'z': 'x'}\n",
    "\n",
    "# substituição que vai ser realizada na reflexão dos rotores\n",
    "refletor = {'v': 'e', 'e': 'v', 'c': 'j', 'j': 'c', 'x': 'y', 'y': 'x', 'b': 'w', 'w': 'b', 'o': 'f', 'f': 'o', 's': 'a', 'a': 's', 'u': 'r', 'r': 'u', 'h': 'k', 'k': 'h', 'l': 'd', 'd': 'l', 'n': 'g', 'g': 'n', 'z': 'i', 'i': 'z', 'q': 'm', 'm': 'q', 'p': 't', 't': 'p'}\n",
    "\n",
    "\n",
    "texto_e = formata(input('insira o texto')).replace(' ', '')\n",
    "#realiza a substituição que o ocorre no plugboard\n",
    "\n",
    "texto_crip_1 = plugboard(texto_e, dic_de_substituicao)\n",
    "\n",
    "\n",
    "# realiza as etapas dos rotores\n",
    "texto_crip_2 = rotores(texto_crip_1, rotor1, rotor2, rotor3, 5, 5, 5, refletor)\n",
    "#print(texto_crip_2)\n",
    "\n",
    "# realiza as etapas dos plugboard na volta\n",
    "texto_crip_final = plugboard(texto_crip_2, dic_de_substituicao)\n",
    "\n",
    "#resultado\n",
    "print(texto_crip_final)"
   ]
  },
  {
   "cell_type": "markdown",
   "id": "adf38cde-65f3-44d6-81df-7ab235c2afdf",
   "metadata": {},
   "source": [
    "### 4.1. Falhas na Frequência de Caracteres\n",
    "#### A máquina Enigma não pode ser decriptografada por frequência de caracteres da mesma forma que a Cifra de César devido ao fato de que o mecanismo de criptografia não segue um padrão de frequência, pois a mesma letra pode ser criptografada de mais de uma forma diferente (chamada de cifra de substituição polialfabética), o que torna essa análise estatística completamente ineficiente. Essa falha na distribuição estatística pode ser vista no histograma abaixo com as frequências dos caracteres que aparecem no texto criptografado por meio da Máquina Enigma"
   ]
  },
  {
   "cell_type": "code",
   "execution_count": 81,
   "id": "fcfec54e-f32c-46f3-8097-f0f03696605a",
   "metadata": {},
   "outputs": [
    {
     "data": {
      "image/png": "[encoded data removed]",
      "text/plain": [
       "<Figure size 640x480 with 1 Axes>"
      ]
     },
     "metadata": {},
     "output_type": "display_data"
    }
   ],
   "source": [
    "freq_enigma = contar(texto_crip_final)\n",
    "\n",
    "dados_ordenados1 = sorted(freq_enigma.items(), key=lambda x: x[1])\n",
    "\n",
    "chaves = [item[0] for item in dados_ordenados1]\n",
    "valores = [item[1] for item in dados_ordenados1]\n",
    "\n",
    "plt.bar(chaves, valores)\n",
    "plt.xlabel('Carácter')\n",
    "plt.ylabel('Frequência')\n",
    "plt.title('Histograma de frequência das letras no texto criptografado')\n",
    "\n",
    "plt.show()"
   ]
  },
  {
   "cell_type": "markdown",
   "id": "f51e486e-0752-4ef8-aa6f-d89d2f836ef3",
   "metadata": {},
   "source": [
    "#### Mesmo assim, foi possível a decriptografia do código da Máquina Enigma, por meio de diversos métodos combinados, como a coleta de mensagens, análise de padrões nas mensagens por criptoanálise estatística, entre outras."
   ]
  },
  {
   "cell_type": "markdown",
   "id": "116139b1-fab2-4ac8-91e6-69397764fdff",
   "metadata": {},
   "source": [
    "## 5. Referências\n",
    "### Decodificação por Frequência de Letras:\n",
    "[Exemplo](http://numaboa.com.br/criptografia/criptoanalise/1051-exemplo)\n",
    "\n",
    "[Frequência de Letras em Português](https://pt.wikipedia.org/wiki/Frequ%C3%AAncia_de_letras)\n",
    "\n",
    "[Frequência de Letras em Espanhol](http://numaboa.com.br/criptografia/criptoanalise/1049-freq-espanhol)\n",
    "\n",
    "[Letter Frequency](https://en.wikipedia.org/wiki/Letter_frequency)\n",
    "\n",
    "### Cifra de César\n",
    "[Caesar Cipher](https://en.wikipedia.org/wiki/Caesar_cipher)\n",
    "\n",
    "### Máquina enigma\n",
    "[Building an Enigma Machine](https://www.youtube.com/watch?v=2D2bJWHvqJo)\n",
    "\n",
    "[Enigma Machine](https://en.wikipedia.org/wiki/Enigma_machine)\n",
    "\n",
    "[Cryptanalisys of the Enigma](https://en.wikipedia.org/wiki/Cryptanalysis_of_the_Enigma)"
   ]
  }
 ],
 "metadata": {
  "kernelspec": {
   "display_name": "ilumpy",
   "language": "python",
   "name": "ilumpy"
  },
  "language_info": {
   "codemirror_mode": {
    "name": "ipython",
    "version": 3
   },
   "file_extension": ".py",
   "mimetype": "text/x-python",
   "name": "python",
   "nbconvert_exporter": "python",
   "pygments_lexer": "ipython3",
   "version": "3.10.8"
  }
 },
 "nbformat": 4,
 "nbformat_minor": 5
}
