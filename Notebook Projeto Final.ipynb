{
 "cells": [
  {
   "cell_type": "markdown",
   "id": "6864a57a-d5fd-4d75-a50f-146d18a3262b",
   "metadata": {},
   "source": [
    "# Ilum - Escola de Ciência\n",
    "### Projeto Semestral em Prática de Ciência de Dados\n",
    "### Interface de Codificação e Decodificação de textos por Criptografia\n",
    "### Daniel Carrasco, João Otávio, João Pedro e Maria Crist"
   ]
  },
  {
   "cell_type": "markdown",
   "id": "e4fb78e0-9266-42b4-9a49-d34ef4797e9e",
   "metadata": {
    "jp-MarkdownHeadingCollapsed": true,
    "tags": []
   },
   "source": [
    "## 1. Introdução"
   ]
  },
  {
   "cell_type": "markdown",
   "id": "27e672e9-c650-4082-9340-d9dabfd25d1b",
   "metadata": {
    "tags": []
   },
   "source": [
    "## 2. Cifra de César"
   ]
  },
  {
   "cell_type": "markdown",
   "id": "c47a6910-a7b1-4406-b1fa-360ae1782716",
   "metadata": {},
   "source": [
    "O primeiro passo para a codificação é o processamento de texto. A função apresentada a seguir recebe uma string e utiliza métodos de lista para formatá-la em um texto sem letras maiúsculas, sem acentuação, sem pontuação e sem caracteres especiais."
   ]
  },
  {
   "cell_type": "markdown",
   "id": "a9558e86-604d-4e73-8141-a7893a5d4e18",
   "metadata": {},
   "source": [
    "## dizer oq é a cifra de césar né"
   ]
  },
  {
   "cell_type": "code",
   "execution_count": 6,
   "id": "a480c1b5-74d7-4039-aa3a-d73e6c3841e8",
   "metadata": {},
   "outputs": [
    {
     "name": "stdin",
     "output_type": "stream",
     "text": [
      "Insira seu texto para ser formatado:  oiii\n"
     ]
    },
    {
     "name": "stdout",
     "output_type": "stream",
     "text": [
      "O texto analisado será: oiii\n"
     ]
    }
   ],
   "source": [
    "import string \n",
    "\n",
    "def formata(texto):\n",
    "    caracteres = list(string.punctuation)\n",
    "\n",
    "    texto_processado = \"\"\n",
    "    for caractere in texto:\n",
    "        if not caractere in caracteres:\n",
    "            texto_processado += caractere\n",
    "\n",
    "    texto_processado = texto_processado.lower()\n",
    "\n",
    "    texto_processado = texto_processado.replace('á', 'a')\n",
    "    texto_processado = texto_processado.replace('à', 'a')\n",
    "    texto_processado = texto_processado.replace('é', 'e')\n",
    "    texto_processado = texto_processado.replace('í', 'i')\n",
    "    texto_processado = texto_processado.replace('ó', 'o')\n",
    "    texto_processado = texto_processado.replace('ú', 'u')\n",
    "    texto_processado = texto_processado.replace('â', 'a')\n",
    "    texto_processado = texto_processado.replace('ê', 'e')\n",
    "    texto_processado = texto_processado.replace('ô', 'o')\n",
    "    texto_processado = texto_processado.replace('û', 'u')\n",
    "    texto_processado = texto_processado.replace('ã', 'a')\n",
    "    texto_processado = texto_processado.replace('õ', 'o')\n",
    "    texto_processado = texto_processado.replace('ç', 'c')\n",
    "    texto_processado = texto_processado.replace('ª', '')\n",
    "    texto_processado = texto_processado.replace('µ', '')\n",
    "    texto_processado = texto_processado.replace('º', '')\n",
    "\n",
    "    return texto_processado\n",
    "\n",
    "texto = input(\"Insira seu texto para ser formatado: \")\n",
    "texto_processado = formata(texto)\n",
    "print(\"O texto analisado será:\", texto_processado)"
   ]
  },
  {
   "cell_type": "markdown",
   "id": "da9adce5-a99e-45e2-882b-70559064a56f",
   "metadata": {},
   "source": [
    "### 2.1. Codificação"
   ]
  },
  {
   "cell_type": "markdown",
   "id": "070a9842-bb18-4103-acfa-d2ee6ebc3357",
   "metadata": {},
   "source": [
    "## explicar o que a função faz"
   ]
  },
  {
   "cell_type": "code",
   "execution_count": 7,
   "id": "46d295fc-ccc0-49ec-a71d-120b7492bb48",
   "metadata": {},
   "outputs": [
    {
     "name": "stdin",
     "output_type": "stream",
     "text": [
      "Insira seu texto para ser codificado:  oii\n",
      "Insira o passo a ser usado:  2\n"
     ]
    },
    {
     "name": "stdout",
     "output_type": "stream",
     "text": [
      "qkk\n"
     ]
    }
   ],
   "source": [
    "def cesar(texto, passo):\n",
    "    texto_processado = formata(texto)\n",
    "    letras_minusculas = list(string.ascii_lowercase)\n",
    "    numero = '0123456789'\n",
    "    final = str()\n",
    "    for c in texto_processado:\n",
    "        if c.isalpha():\n",
    "            pos = letras_minusculas.index(c)\n",
    "            new_pos = ((pos + passo) % len(letras_minusculas))\n",
    "            final += letras_minusculas[new_pos]\n",
    "\n",
    "        elif c.isnumeric() or c == ' ':\n",
    "            final += c\n",
    "\n",
    "    return final\n",
    "\n",
    "texto = input(\"Insira seu texto para ser codificado: \")\n",
    "passo = int(input (\"Insira o passo a ser usado: \"))\n",
    "print (cesar(texto, passo))"
   ]
  },
  {
   "cell_type": "markdown",
   "id": "e1ba48c2-d42b-4d7d-82fc-02b0d866a816",
   "metadata": {},
   "source": [
    "### 2.2 Decodificação"
   ]
  },
  {
   "cell_type": "markdown",
   "id": "cbe2bfe6-831d-4ce6-9992-2a1929b7945d",
   "metadata": {},
   "source": [
    "## explicar como esse código funciona"
   ]
  },
  {
   "cell_type": "code",
   "execution_count": null,
   "id": "99b51dd5-7da6-48ea-ad81-4871228c9f1c",
   "metadata": {},
   "outputs": [],
   "source": [
    "def cesar(texto, passo):\n",
    "    texto_processado = texto.replace(\" \", \"\")\n",
    "    letras_minusculas = list(string.ascii_lowercase)\n",
    "    numero = '0123456789'\n",
    "    final = \"\"\n",
    "    \n",
    "    for c in texto_processado:\n",
    "        if c.isalpha():\n",
    "            pos = letras_minusculas.index(c)\n",
    "            new_pos = (pos - passo) % len(letras_minusculas)\n",
    "            final += letras_minusculas[new_pos]\n",
    "        elif c.isnumeric() or c == ' ':\n",
    "            final += c\n",
    "\n",
    "    return final\n",
    "\n",
    "texto = input(\"Insira o texto a ser decodificado: \")\n",
    "passo = int(input(\"Insira o passo usado para codificar: \"))\n",
    "print(cesar(texto, passo))"
   ]
  },
  {
   "cell_type": "markdown",
   "id": "8a8387e3-5968-4e17-a16a-f9b32b34f4d7",
   "metadata": {},
   "source": [
    "## 3. Decodificação por Frequência de Caracteres"
   ]
  },
  {
   "cell_type": "markdown",
   "id": "836fe0b6-37e2-4025-a147-43ba24b293ff",
   "metadata": {},
   "source": [
    "## falar sobre outra forma de decoficação que é usando a freuqnecia de caracter"
   ]
  },
  {
   "cell_type": "markdown",
   "id": "ee3c8e66-61af-4de0-8b08-72f6f8bd505d",
   "metadata": {},
   "source": [
    "### 3.1. Frequência de Caracteres"
   ]
  },
  {
   "cell_type": "markdown",
   "id": "7e164968-04d5-4f43-8692-73beae0dbb49",
   "metadata": {},
   "source": [
    "## Função Conta"
   ]
  },
  {
   "cell_type": "code",
   "execution_count": 8,
   "id": "19f8a817-92ac-49f7-a11e-5590273758ab",
   "metadata": {},
   "outputs": [],
   "source": [
    "def contar(texto):\n",
    "    string = texto.replace(\" \", \"\")\n",
    "    total = len(string)\n",
    "\n",
    "    dicionario = {}\n",
    "\n",
    "    for letra in string:\n",
    "        if letra.isalpha():\n",
    "            a = string.count(letra)\n",
    "            dicionario.update({letra: ((a / total) * 100)})\n",
    "\n",
    "    return dict(sorted(dicionario.items(), key=lambda x: x[1], reverse=True))"
   ]
  },
  {
   "cell_type": "markdown",
   "id": "2213cfff-9f1e-4d4b-ab77-c09c3eb5a1da",
   "metadata": {},
   "source": [
    "## Função substituir no texto"
   ]
  },
  {
   "cell_type": "code",
   "execution_count": 9,
   "id": "13199635-4c99-46da-8d3a-b38624068b70",
   "metadata": {},
   "outputs": [],
   "source": [
    "def substituir_no_texto(texto, substitui):\n",
    "    texto_velho = texto\n",
    "    novo = []\n",
    "    for letra in texto_velho:\n",
    "        if letra.isalpha():\n",
    "            novo.append(substitui[letra])\n",
    "        else:\n",
    "            novo.append(letra)\n",
    "    text_novo = ''\n",
    "    return text_novo.join(novo)"
   ]
  },
  {
   "cell_type": "markdown",
   "id": "9cf7dac4-547f-4188-bfe8-b2cbeaabc92a",
   "metadata": {},
   "source": [
    "## Função comparar"
   ]
  },
  {
   "cell_type": "code",
   "execution_count": 10,
   "id": "d4716d29-2ec8-4680-bf42-896b986133c7",
   "metadata": {},
   "outputs": [],
   "source": [
    "def comparar(enig, compa):\n",
    "\n",
    "    letra_eng = list(enig.keys())\n",
    "    porc_eng = list(enig.values())\n",
    "    letra_por = list(compa.keys())\n",
    "    porc_por = list(compa.values())\n",
    "    resultado_lista = []\n",
    "    resultado_tupla = {}\n",
    "    for eng in porc_eng:\n",
    "        delta = []\n",
    "        for prob in porc_por:\n",
    "            delta.append(abs(eng-prob))\n",
    "        index = delta.index(min(delta))\n",
    "        resultado_lista.append(letra_por[index])\n",
    "    for n, c in enumerate(letra_eng):\n",
    "        resultado_tupla[c] = resultado_lista[n]\n",
    "\n",
    "    return resultado_tupla\n",
    "\n",
    "def comparar_linear(enig, compa):\n",
    "\n",
    "    letra_eng = list(enig.keys())\n",
    "    porc_eng = list(enig.values())\n",
    "    letra_por = list(compa.keys())\n",
    "    porc_por = list(compa.values())\n",
    "\n",
    "    resultado = {}\n",
    "    compa_ord = sorted(compa.items(), key=lambda x: x[1], reverse=True)\n",
    "    print(compa_ord)\n",
    "\n",
    "    for c in range(0, len(enig)):\n",
    "        resultado[list(enig.keys())[c]] = list(compa_ord)[c][0]\n",
    "    return resultado"
   ]
  },
  {
   "cell_type": "markdown",
   "id": "9aa43e14-2493-4109-a212-474c1f19dbb3",
   "metadata": {},
   "source": [
    "## Código main"
   ]
  },
  {
   "cell_type": "code",
   "execution_count": 35,
   "id": "86c2a3a1-d250-4034-8c73-9554a8b2f754",
   "metadata": {},
   "outputs": [
    {
     "name": "stdin",
     "output_type": "stream",
     "text": [
      "Escreva seu texto aqui: Claro! Aqui está um texto com aproximadamente 1000 palavras:  \"A Revolução Industrial foi um período de transformação significativa que ocorreu entre o século XVIII e XIX. Esse período foi marcado pelo surgimento de novas tecnologias, mudanças nos métodos de produção e uma transição da sociedade agrária para uma sociedade industrializada. Essa revolução teve um impacto profundo em vários aspectos da vida humana, desde a economia e a política até a cultura e o ambiente.  Uma das principais mudanças que ocorreram durante a Revolução Industrial foi a transição da produção manual para a produção mecanizada. A invenção de máquinas, como a máquina a vapor e o tear mecânico, permitiu que a produção fosse realizada de forma mais eficiente e em maior escala. Isso levou ao aumento da produtividade e ao crescimento econômico.  Além disso, a Revolução Industrial também trouxe mudanças significativas nas condições de trabalho. As fábricas e as indústrias exigiam uma mão de obra cada vez maior, o que levou ao surgimento das fábricas e ao trabalho assalariado. No entanto, as condições de trabalho nas fábricas eram frequentemente precárias, com longas jornadas de trabalho, baixos salários e falta de regulamentação. Isso levou a movimentos de trabalhadores que buscavam melhores condições de trabalho e direitos trabalhistas.  Além das mudanças econômicas e sociais, a Revolução Industrial também teve um impacto significativo no meio ambiente. O aumento da produção e o uso intensivo de recursos naturais resultaram na poluição do ar e da água, bem como no desmatamento. Esses problemas ambientais levaram a preocupações crescentes com a sustentabilidade e à necessidade de regulamentações ambientais.  A Revolução Industrial também teve implicações políticas. O surgimento da classe trabalhadora industrializada levou a mudanças nas relações de poder e à luta por direitos políticos. Movimentos políticos e sociais, como o movimento cartista na Inglaterra, buscavam a ampliação do sufrágio e a melhoria das condições de vida dos trabalhadores.  No campo cultural, a Revolução Industrial também teve um impacto significativo. Novas formas de arte, literatura e música surgiram, refletindo as mudanças sociais e tecnológicas da época. O movimento romântico, por exemplo, explorou os efeitos da industrialização na natureza e na experiência humana.  Em resumo, a Revolução Industrial foi um período de mudanças profundas que teve um impacto duradouro na sociedade. Essas mudanças incluíram o surgimento de novas tecnologias, mudanças nos métodos de produção, condições de trabalho precárias, problemas ambientais, mudanças políticas e transformações culturais. Embora tenha trazido muitos benefícios e avanços, a Revolução Industrial também trouxe desafios e desigualdades que ainda são discutidos e abordados nos dias de hoje.\"\n"
     ]
    },
    {
     "name": "stdout",
     "output_type": "stream",
     "text": [
      "\n",
      "1) Frequência na Língua Portuguesa:\n",
      "[('a', 14.63), ('e', 12.57), ('o', 10.73), ('s', 7.81), ('r', 6.53), ('i', 6.18), ('n', 5.05), ('d', 4.99), ('m', 4.74), ('u', 4.63), ('t', 4.34), ('c', 3.88), ('l', 2.78), ('p', 2.52), ('v', 1.67), ('g', 1.3), ('h', 1.28), ('q', 1.2), ('b', 1.04), ('f', 1.02), ('z', 0.47), ('j', 0.4), ('x', 0.21), ('k', 0.02), ('w', 0.01), ('y', 0.01)]\n",
      "\n",
      "2) Texto original formatado:\n",
      "claro aqui esta um texto com aproximadamente 1000 palavras  a revolucao industrial foi um periodo de transformacao significativa que ocorreu entre o seculo xviii e xix esse periodo foi marcado pelo surgimento de novas tecnologias mudancas nos metodos de producao e uma transicao da sociedade agraria para uma sociedade industrializada essa revolucao teve um impacto profundo em varios aspectos da vida humana desde a economia e a politica ate a cultura e o ambiente  uma das principais mudancas que ocorreram durante a revolucao industrial foi a transicao da producao manual para a producao mecanizada a invencao de maquinas como a maquina a vapor e o tear mecanico permitiu que a producao fosse realizada de forma mais eficiente e em maior escala isso levou ao aumento da produtividade e ao crescimento economico  alem disso a revolucao industrial tambem trouxe mudancas significativas nas condicoes de trabalho as fabricas e as industrias exigiam uma mao de obra cada vez maior o que levou ao surgimento das fabricas e ao trabalho assalariado no entanto as condicoes de trabalho nas fabricas eram frequentemente precarias com longas jornadas de trabalho baixos salarios e falta de regulamentacao isso levou a movimentos de trabalhadores que buscavam melhores condicoes de trabalho e direitos trabalhistas  alem das mudancas economicas e sociais a revolucao industrial tambem teve um impacto significativo no meio ambiente o aumento da producao e o uso intensivo de recursos naturais resultaram na poluicao do ar e da agua bem como no desmatamento esses problemas ambientais levaram a preocupacoes crescentes com a sustentabilidade e a necessidade de regulamentacoes ambientais  a revolucao industrial tambem teve implicacoes politicas o surgimento da classe trabalhadora industrializada levou a mudancas nas relacoes de poder e a luta por direitos politicos movimentos politicos e sociais como o movimento cartista na inglaterra buscavam a ampliacao do sufragio e a melhoria das condicoes de vida dos trabalhadores  no campo cultural a revolucao industrial tambem teve um impacto significativo novas formas de arte literatura e musica surgiram refletindo as mudancas sociais e tecnologicas da epoca o movimento romantico por exemplo explorou os efeitos da industrializacao na natureza e na experiencia humana  em resumo a revolucao industrial foi um periodo de mudancas profundas que teve um impacto duradouro na sociedade essas mudancas incluiram o surgimento de novas tecnologias mudancas nos metodos de producao condicoes de trabalho precarias problemas ambientais mudancas politicas e transformacoes culturais embora tenha trazido muitos beneficios e avancos a revolucao industrial tambem trouxe desafios e desigualdades que ainda sao discutidos e abordados nos dias de hoje\n",
      "\n",
      "3) Texto na Cifra de César:\n",
      "enctq cswk guvc wo vgzvq eqo crtqzkocfcogpvg 1000 rcncxtcu  c tgxqnwecq kpfwuvtkcn hqk wo rgtkqfq fg vtcpuhqtocecq ukipkhkecvkxc swg qeqttgw gpvtg q ugewnq zxkkk g zkz guug rgtkqfq hqk octecfq rgnq uwtikogpvq fg pqxcu vgepqnqikcu owfcpecu pqu ogvqfqu fg rtqfwecq g woc vtcpukecq fc uqekgfcfg citctkc rctc woc uqekgfcfg kpfwuvtkcnkbcfc guuc tgxqnwecq vgxg wo korcevq rtqhwpfq go xctkqu curgevqu fc xkfc jwocpc fgufg c geqpqokc g c rqnkvkec cvg c ewnvwtc g q codkgpvg  woc fcu rtkpekrcku owfcpecu swg qeqttgtco fwtcpvg c tgxqnwecq kpfwuvtkcn hqk c vtcpukecq fc rtqfwecq ocpwcn rctc c rtqfwecq ogecpkbcfc c kpxgpecq fg ocswkpcu eqoq c ocswkpc c xcrqt g q vgct ogecpkeq rgtokvkw swg c rtqfwecq hquug tgcnkbcfc fg hqtoc ocku ghkekgpvg g go ockqt guecnc kuuq ngxqw cq cwogpvq fc rtqfwvkxkfcfg g cq etguekogpvq geqpqokeq  cngo fkuuq c tgxqnwecq kpfwuvtkcn vcodgo vtqwzg owfcpecu ukipkhkecvkxcu pcu eqpfkeqgu fg vtcdcnjq cu hcdtkecu g cu kpfwuvtkcu gzkikco woc ocq fg qdtc ecfc xgb ockqt q swg ngxqw cq uwtikogpvq fcu hcdtkecu g cq vtcdcnjq cuucnctkcfq pq gpvcpvq cu eqpfkeqgu fg vtcdcnjq pcu hcdtkecu gtco htgswgpvgogpvg rtgectkcu eqo nqpicu lqtpcfcu fg vtcdcnjq dckzqu ucnctkqu g hcnvc fg tgiwncogpvcecq kuuq ngxqw c oqxkogpvqu fg vtcdcnjcfqtgu swg dwuecxco ognjqtgu eqpfkeqgu fg vtcdcnjq g fktgkvqu vtcdcnjkuvcu  cngo fcu owfcpecu geqpqokecu g uqekcku c tgxqnwecq kpfwuvtkcn vcodgo vgxg wo korcevq ukipkhkecvkxq pq ogkq codkgpvg q cwogpvq fc rtqfwecq g q wuq kpvgpukxq fg tgewtuqu pcvwtcku tguwnvctco pc rqnwkecq fq ct g fc ciwc dgo eqoq pq fguocvcogpvq guugu rtqdngocu codkgpvcku ngxctco c rtgqewrceqgu etguegpvgu eqo c uwuvgpvcdknkfcfg g c pgeguukfcfg fg tgiwncogpvceqgu codkgpvcku  c tgxqnwecq kpfwuvtkcn vcodgo vgxg kornkeceqgu rqnkvkecu q uwtikogpvq fc encuug vtcdcnjcfqtc kpfwuvtkcnkbcfc ngxqw c owfcpecu pcu tgnceqgu fg rqfgt g c nwvc rqt fktgkvqu rqnkvkequ oqxkogpvqu rqnkvkequ g uqekcku eqoq q oqxkogpvq ectvkuvc pc kpincvgttc dwuecxco c cornkcecq fq uwhtcikq g c ognjqtkc fcu eqpfkeqgu fg xkfc fqu vtcdcnjcfqtgu  pq ecorq ewnvwtcn c tgxqnwecq kpfwuvtkcn vcodgo vgxg wo korcevq ukipkhkecvkxq pqxcu hqtocu fg ctvg nkvgtcvwtc g owukec uwtiktco tghngvkpfq cu owfcpecu uqekcku g vgepqnqikecu fc grqec q oqxkogpvq tqocpvkeq rqt gzgornq gzrnqtqw qu ghgkvqu fc kpfwuvtkcnkbcecq pc pcvwtgbc g pc gzrgtkgpekc jwocpc  go tguwoq c tgxqnwecq kpfwuvtkcn hqk wo rgtkqfq fg owfcpecu rtqhwpfcu swg vgxg wo korcevq fwtcfqwtq pc uqekgfcfg guucu owfcpecu kpenwktco q uwtikogpvq fg pqxcu vgepqnqikcu owfcpecu pqu ogvqfqu fg rtqfwecq eqpfkeqgu fg vtcdcnjq rtgectkcu rtqdngocu codkgpvcku owfcpecu rqnkvkecu g vtcpuhqtoceqgu ewnvwtcku godqtc vgpjc vtcbkfq owkvqu dgpghkekqu g cxcpequ c tgxqnwecq kpfwuvtkcn vcodgo vtqwzg fguchkqu g fgukiwcnfcfgu swg ckpfc ucq fkuewvkfqu g cdqtfcfqu pqu fkcu fg jqlg\n",
      "\n",
      "4) Frequência do texto:\n",
      "{'c': 14.662133446663834, 'q': 10.284742881427965, 'g': 10.029749256268593, 'k': 7.86230344241394, 'u': 7.5648108797280065, 't': 6.03484912877178, 'f': 5.397365065873353, 'e': 5.269868253293668, 'v': 5.099872503187421, 'o': 5.057373565660858, 'p': 4.929876753081173, 'w': 4.8023799405014875, 'n': 3.4424139396515083, 'r': 2.039949001274968, 'x': 1.827454313642159, 'd': 1.4449638759031025, 'h': 1.1049723756906076, 'i': 0.8924776880577986, 'j': 0.6799830004249894, 'z': 0.509987250318742, 's': 0.46748831279218017, 'b': 0.3399915002124947, 'l': 0.08499787505312367}\n",
      "\n",
      "5) Associação de menor delta:\n",
      "{'c': 'a', 'q': 'o', 'g': 'o', 'k': 's', 'u': 's', 't': 'i', 'f': 'n', 'e': 'n', 'v': 'n', 'o': 'n', 'p': 'd', 'w': 'm', 'n': 'c', 'r': 'v', 'x': 'v', 'd': 'g', 'h': 'b', 'i': 'f', 'j': 'z', 'z': 'z', 's': 'z', 'b': 'j', 'l': 'k'}\n",
      "\n",
      "6) Associação linear:\n",
      "{'c': 'a', 'q': 'e', 'g': 'o', 'k': 's', 'u': 'r', 't': 'i', 'f': 'n', 'e': 'd', 'v': 'm', 'o': 'u', 'p': 't', 'w': 'c', 'n': 'l', 'r': 'p', 'x': 'v', 'd': 'g', 'h': 'h', 'i': 'q', 'j': 'b', 'z': 'f', 's': 'z', 'b': 'j', 'l': 'x'}\n",
      "\n",
      "7) Texto final por menor delta:\n",
      "ncaio azms osna mn nozno non aviozsnananodno 1000 vacavias  a iovocmnao sdnmsnisac bos mn voisono no niadsboinanao ssfdsbsnansva zmo onoiiom odnio o sonmco zvsss o zsz osso voisono bos nainano voco smifsnodno no dovas nondocofsas nmnadnas dos nononos no vionmnao o mna niadssnao na sonsonano afiaisa vaia mna sonsonano sdnmsnisacsjana ossa iovocmnao novo mn snvanno viobmdno on vaisos asvonnos na vsna zmnada nosno a onodonsa o a vocsnsna ano a nmcnmia o o angsodno  mna nas visdnsvass nmnadnas zmo onoiioian nmiadno a iovocmnao sdnmsnisac bos a niadssnao na vionmnao nadmac vaia a vionmnao nonadsjana a sdvodnao no nazmsdas nono a nazmsda a vavoi o o noai nonadsno voinsnsm zmo a vionmnao bosso ioacsjana no boina nass obsnsodno o on nasoi osnaca ssso covom ao amnodno na vionmnsvsnano o ao niosnsnodno onodonsno  acon nssso a iovocmnao sdnmsnisac nangon niomzo nmnadnas ssfdsbsnansvas das nodnsnoos no niagaczo as bagisnas o as sdnmsnisas ozsfsan mna nao no ogia nana voj nasoi o zmo covom ao smifsnodno nas bagisnas o ao niagaczo assacaisano do odnadno as nodnsnoos no niagaczo das bagisnas oian biozmodnonodno vionaisas non codfas koidanas no niagaczo gaszos sacaisos o bacna no iofmcanodnanao ssso covom a novsnodnos no niagaczanoios zmo gmsnavan noczoios nodnsnoos no niagaczo o nsiosnos niagaczssnas  acon nas nmnadnas onodonsnas o sonsass a iovocmnao sdnmsnisac nangon novo mn snvanno ssfdsbsnansvo do noso angsodno o amnodno na vionmnao o o mso sdnodssvo no ionmisos danmiass iosmcnaian da vocmsnao no ai o na afma gon nono do nosnananodno ossos viogconas angsodnass covaian a vioonmvanoos niosnodnos non a smsnodnagscsnano o a donosssnano no iofmcanodnanoos angsodnass  a iovocmnao sdnmsnisac nangon novo snvcsnanoos vocsnsnas o smifsnodno na ncasso niagaczanoia sdnmsnisacsjana covom a nmnadnas das iocanoos no vonoi o a cmna voi nsiosnos vocsnsnos novsnodnos vocsnsnos o sonsass nono o novsnodno nainssna da sdfcanoiia gmsnavan a anvcsanao no smbiafso o a noczoisa nas nodnsnoos no vsna nos niagaczanoios  do nanvo nmcnmiac a iovocmnao sdnmsnisac nangon novo mn snvanno ssfdsbsnansvo dovas boinas no aino csnoianmia o nmssna smifsian iobconsdno as nmnadnas sonsass o nondocofsnas na ovona o novsnodno ionadnsno voi ozonvco ozvcoiom os obosnos na sdnmsnisacsjanao da danmioja o da ozvoisodnsa zmnada  on iosmno a iovocmnao sdnmsnisac bos mn voisono no nmnadnas viobmdnas zmo novo mn snvanno nmianomio da sonsonano ossas nmnadnas sdncmsian o smifsnodno no dovas nondocofsas nmnadnas dos nononos no vionmnao nodnsnoos no niagaczo vionaisas viogconas angsodnass nmnadnas vocsnsnas o niadsboinanoos nmcnmiass ongoia nodza niajsno nmsnos godobsnsos o avadnos a iovocmnao sdnmsnisac nangon niomzo nosabsos o nossfmacnanos zmo asdna sao nssnmnsnos o agoinanos dos nsas no zoko\n",
      "\n",
      "8) Texto final por associação linear:\n",
      "dlaie azcs orma cu mofme deu apiefsuanauotmo 1000 palaviar  a iovelcdae stncrmisal hes cu poisene no miatrheiuadae rsqtshsdamsva zco edeiioc otmio e rodcle fvsss o fsf orro poisene hes uaidane pole rciqsuotme no tevar modteleqsar ucnatdar ter uomener no piencdae o cua miatrsdae na redsonano aqiaisa paia cua redsonano stncrmisalsjana orra iovelcdae movo cu supadme piehctne ou vaiser arpodmer na vsna bcuata norno a odeteusa o a pelsmsda amo a dclmcia o e augsotmo  cua nar pistdspasr ucnatdar zco edeiioiau nciatmo a iovelcdae stncrmisal hes a miatrsdae na piencdae uatcal paia a piencdae uodatsjana a stvotdae no uazcstar deue a uazcsta a vapei o e moai uodatsde poiusmsc zco a piencdae herro ioalsjana no heiua uasr ohsdsotmo o ou uasei ordala srre lovec ae acuotme na piencmsvsnano o ae diordsuotme odeteusde  alou nsrre a iovelcdae stncrmisal maugou miecfo ucnatdar rsqtshsdamsvar tar detnsdeor no miagalbe ar hagisdar o ar stncrmisar ofsqsau cua uae no egia dana voj uasei e zco lovec ae rciqsuotme nar hagisdar o ae miagalbe arralaisane te otmatme ar detnsdeor no miagalbe tar hagisdar oiau hiozcotmouotmo piodaisar deu letqar xeitanar no miagalbe gasfer ralaiser o halma no ioqclauotmadae srre lovec a uevsuotmer no miagalbaneior zco gcrdavau uolbeior detnsdeor no miagalbe o nsiosmer miagalbsrmar  alou nar ucnatdar odeteusdar o redsasr a iovelcdae stncrmisal maugou movo cu supadme rsqtshsdamsve te uose augsotmo e acuotme na piencdae o e cre stmotrsve no iodcirer tamciasr iorclmaiau ta pelcsdae ne ai o na aqca gou deue te noruamauotme orror pieglouar augsotmasr lovaiau a pioedcpadeor diordotmor deu a rcrmotmagslsnano o a todorrsnano no ioqclauotmadeor augsotmasr  a iovelcdae stncrmisal maugou movo suplsdadeor pelsmsdar e rciqsuotme na dlarro miagalbaneia stncrmisalsjana lovec a ucnatdar tar ioladeor no penoi o a lcma pei nsiosmer pelsmsder uevsuotmer pelsmsder o redsasr deue e uevsuotme daimsrma ta stqlamoiia gcrdavau a auplsadae ne rchiaqse o a uolbeisa nar detnsdeor no vsna ner miagalbaneior  te daupe dclmcial a iovelcdae stncrmisal maugou movo cu supadme rsqtshsdamsve tevar heiuar no aimo lsmoiamcia o ucrsda rciqsiau iohlomstne ar ucnatdar redsasr o modteleqsdar na opeda e uevsuotme ieuatmsde pei ofouple ofpleiec er ohosmer na stncrmisalsjadae ta tamcioja o ta ofpoisotdsa bcuata  ou iorcue a iovelcdae stncrmisal hes cu poisene no ucnatdar piehctnar zco movo cu supadme ncianecie ta redsonano orrar ucnatdar stdlcsiau e rciqsuotme no tevar modteleqsar ucnatdar ter uomener no piencdae detnsdeor no miagalbe piodaisar pieglouar augsotmasr ucnatdar pelsmsdar o miatrheiuadeor dclmciasr ougeia motba miajsne ucsmer gotohsdser o avatder a iovelcdae stncrmisal maugou miecfo norahser o norsqcalnanor zco astna rae nsrdcmsner o ageinaner ter nsar no bexo\n"
     ]
    }
   ],
   "source": [
    "texto_main = input (\"Escreva seu texto aqui:\")\n",
    "print()\n",
    "print(\"1) Frequência na Língua Portuguesa:\")\n",
    "frequencias = {\n",
    "    'a': 14.63,\n",
    "    'b': 1.04,\n",
    "    'c': 3.88,\n",
    "    'd': 4.99,\n",
    "    'e': 12.57,\n",
    "    'f': 1.02,\n",
    "    'g': 1.30,\n",
    "    'h': 1.28,\n",
    "    'i': 6.18,\n",
    "    'j': 0.40,\n",
    "    'k': 0.02,\n",
    "    'l': 2.78,\n",
    "    'm': 4.74,\n",
    "    'n': 5.05,\n",
    "    'o': 10.73,\n",
    "    'p': 2.52,\n",
    "    'q': 1.20,\n",
    "    'r': 6.53,\n",
    "    's': 7.81,\n",
    "    't': 4.34,\n",
    "    'u': 4.63,\n",
    "    'v': 1.67,\n",
    "    'w': 0.01,\n",
    "    'x': 0.21,\n",
    "    'y': 0.01,\n",
    "    'z': 0.47\n",
    "}\n",
    "\n",
    "# Exemplo de uso:\n",
    "#letra = 'a'\n",
    "#frequencia = frequencias.get(letra)\n",
    "\n",
    "\n",
    "\n",
    "forma = formata(texto_main)\n",
    "ces = cesar(forma, 2)\n",
    "ene = contar(ces)\n",
    "resultado = comparar(ene, frequencias)\n",
    "resultado2 = comparar_linear(ene, frequencias)\n",
    "print()\n",
    "print(\"2) Texto original formatado:\")\n",
    "print(forma)\n",
    "print()\n",
    "print(\"3) Texto na Cifra de César:\")\n",
    "print(ces)\n",
    "print()\n",
    "print(\"4) Frequência do texto:\")\n",
    "print(ene)\n",
    "print()\n",
    "print(\"5) Associação de menor delta:\")\n",
    "print(resultado)\n",
    "print()\n",
    "print(\"6) Associação linear:\")\n",
    "print(resultado2)\n",
    "print()\n",
    "print(\"7) Texto final por menor delta:\")\n",
    "print(substituir_no_texto(ces, resultado))\n",
    "print()\n",
    "print(\"8) Texto final por associação linear:\")\n",
    "print(substituir_no_texto(ces, resultado2))"
   ]
  },
  {
   "cell_type": "code",
   "execution_count": 43,
   "id": "b20610af-5fd8-4d77-9b80-260708da2bd4",
   "metadata": {},
   "outputs": [
    {
     "data": {
      "image/png": "[encoded data removed]",
      "text/plain": [
       "<Figure size 640x480 with 1 Axes>"
      ]
     },
     "metadata": {},
     "output_type": "display_data"
    }
   ],
   "source": [
    "import matplotlib.pyplot as plt\n",
    "\n",
    "# Ordenar os valores em ordem crescente\n",
    "dados_ordenados = sorted(frequencias.items(), key=lambda x: x[1])\n",
    "\n",
    "chaves = [item[0] for item in dados_ordenados]\n",
    "valores = [item[1] for item in dados_ordenados]\n",
    "\n",
    "plt.bar(chaves, valores)\n",
    "plt.xlabel('Carácter')\n",
    "plt.ylabel('Frequência')\n",
    "plt.title('Histograma de frequência de letras na língua portuguesa')\n",
    "\n",
    "plt.show()"
   ]
  },
  {
   "cell_type": "code",
   "execution_count": 44,
   "id": "27d0d2cc-0813-4cf7-8ecd-aa1a3e988288",
   "metadata": {},
   "outputs": [
    {
     "data": {
      "image/png": "[encoded data removed]",
      "text/plain": [
       "<Figure size 640x480 with 1 Axes>"
      ]
     },
     "metadata": {},
     "output_type": "display_data"
    }
   ],
   "source": [
    "dados_ordenados1 = sorted(ene.items(), key=lambda x: x[1])\n",
    "\n",
    "chaves = [item[0] for item in dados_ordenados1]\n",
    "valores = [item[1] for item in dados_ordenados1]\n",
    "\n",
    "plt.bar(chaves, valores)\n",
    "plt.xlabel('Carácter')\n",
    "plt.ylabel('Frequência')\n",
    "plt.title('Histograma de frequência das letras no texto criptografado')\n",
    "\n",
    "plt.show()"
   ]
  },
  {
   "cell_type": "markdown",
   "id": "67051fe5-4547-456f-b806-f566ff044e70",
   "metadata": {},
   "source": [
    "### 3.2. Correção Manual do Texto"
   ]
  },
  {
   "cell_type": "code",
   "execution_count": 50,
   "id": "762bf8f7-c76b-4a33-bebc-2a560c13577e",
   "metadata": {},
   "outputs": [
    {
     "name": "stdin",
     "output_type": "stream",
     "text": [
      "Quantas substituições você deseja fazer?  4\n",
      "Digite o caractere original:  d\n",
      "Digite o caractere substituto:  c\n",
      "Digite o caractere original:  i\n",
      "Digite o caractere substituto:  r\n",
      "Digite o caractere original:  r\n",
      "Digite o caractere substituto:  s\n",
      "Digite o caractere original:  e\n",
      "Digite o caractere substituto:  o\n",
      "Escreva seu texto aqui: dlaie azcs orma cu mofme deu apiefsuanauotmo 1000 palaviar  a iovelcdae stncrmisal hes cu poisene no miatrheiuadae rsqtshsdamsva zco edeiioc otmio e rodcle fvsss o fsf orro poisene hes uaidane pole rciqsuotme no tevar modteleqsar ucnatdar ter uomener no piencdae o cua miatrsdae na redsonano aqiaisa paia cua redsonano stncrmisalsjana orra iovelcdae movo cu supadme piehctne ou vaiser arpodmer na vsna bcuata norno a odeteusa o a pelsmsda amo a dclmcia o e augsotmo  cua nar pistdspasr ucnatdar zco edeiioiau nciatmo a iovelcdae stncrmisal hes a miatrsdae na piencdae uatcal paia a piencdae uodatsjana a stvotdae no uazcstar deue a uazcsta a vapei o e moai uodatsde poiusmsc zco a piencdae herro ioalsjana no heiua uasr ohsdsotmo o ou uasei ordala srre lovec ae acuotme na piencmsvsnano o ae diordsuotme odeteusde  alou nsrre a iovelcdae stncrmisal maugou miecfo ucnatdar rsqtshsdamsvar tar detnsdeor no miagalbe ar hagisdar o ar stncrmisar ofsqsau cua uae no egia dana voj uasei e zco lovec ae rciqsuotme nar hagisdar o ae miagalbe arralaisane te otmatme ar detnsdeor no miagalbe tar hagisdar oiau hiozcotmouotmo piodaisar deu letqar xeitanar no miagalbe gasfer ralaiser o halma no ioqclauotmadae srre lovec a uevsuotmer no miagalbaneior zco gcrdavau uolbeior detnsdeor no miagalbe o nsiosmer miagalbsrmar  alou nar ucnatdar odeteusdar o redsasr a iovelcdae stncrmisal maugou movo cu supadme rsqtshsdamsve te uose augsotmo e acuotme na piencdae o e cre stmotrsve no iodcirer tamciasr iorclmaiau ta pelcsdae ne ai o na aqca gou deue te noruamauotme orror pieglouar augsotmasr lovaiau a pioedcpadeor diordotmor deu a rcrmotmagslsnano o a todorrsnano no ioqclauotmadeor augsotmasr  a iovelcdae stncrmisal maugou movo suplsdadeor pelsmsdar e rciqsuotme na dlarro miagalbaneia stncrmisalsjana lovec a ucnatdar tar ioladeor no penoi o a lcma pei nsiosmer pelsmsder uevsuotmer pelsmsder o redsasr deue e uevsuotme daimsrma ta stqlamoiia gcrdavau a auplsadae ne rchiaqse o a uolbeisa nar detnsdeor no vsna ner miagalbaneior  te daupe dclmcial a iovelcdae stncrmisal maugou movo cu supadme rsqtshsdamsve tevar heiuar no aimo lsmoiamcia o ucrsda rciqsiau iohlomstne ar ucnatdar redsasr o modteleqsdar na opeda e uevsuotme ieuatmsde pei ofouple ofpleiec er ohosmer na stncrmisalsjadae ta tamcioja o ta ofpoisotdsa bcuata  ou iorcue a iovelcdae stncrmisal hes cu poisene no ucnatdar piehctnar zco movo cu supadme ncianecie ta redsonano orrar ucnatdar stdlcsiau e rciqsuotme no tevar modteleqsar ucnatdar ter uomener no piencdae detnsdeor no miagalbe piodaisar pieglouar augsotmasr ucnatdar pelsmsdar o miatrheiuadeor dclmciasr ougeia motba miajsne ucsmer gotohsdser o avatder a iovelcdae stncrmisal maugou miecfo norahser o norsqcalnanor zco astna rae nsrdcmsner o ageinaner ter nsar no bexo\n"
     ]
    },
    {
     "name": "stdout",
     "output_type": "stream",
     "text": [
      "\n",
      "Texto com substituições:\n",
      "claro azcs osma cu mofmo cou aprofsuanauotmo 1000 palavras  a rovolccao stncsmrsal hos cu porsono no mratshoruacao ssqtshscamsva zco ocorroc otmro o socclo fvsss o fsf osso porsono hos uarcano polo scrqsuotmo no tovas moctoloqsas ucnatcas tos uomonos no pronccao o cua mratsscao na socsonano aqrarsa para cua socsonano stncsmrsalsjana ossa rovolccao movo cu supacmo prohctno ou varsos aspocmos na vsna bcuata nosno a ocotousa o a polsmsca amo a cclmcra o o augsotmo  cua nas prstcspass ucnatcas zco ocorrorau ncratmo a rovolccao stncsmrsal hos a mratsscao na pronccao uatcal para a pronccao uocatsjana a stvotcao no uazcstas couo a uazcsta a vapor o o moar uocatsco porusmsc zco a pronccao hosso roalsjana no horua uass ohscsotmo o ou uasor oscala ssso lovoc ao acuotmo na proncmsvsnano o ao croscsuotmo ocotousco  alou nssso a rovolccao stncsmrsal maugou mrocfo ucnatcas ssqtshscamsvas tas cotnscoos no mragalbo as hagrscas o as stncsmrsas ofsqsau cua uao no ogra cana voj uasor o zco lovoc ao scrqsuotmo nas hagrscas o ao mragalbo assalarsano to otmatmo as cotnscoos no mragalbo tas hagrscas orau hrozcotmouotmo procarsas cou lotqas xortanas no mragalbo gasfos salarsos o halma no roqclauotmacao ssso lovoc a uovsuotmos no mragalbanoros zco gcscavau uolboros cotnscoos no mragalbo o nsrosmos mragalbssmas  alou nas ucnatcas ocotouscas o socsass a rovolccao stncsmrsal maugou movo cu supacmo ssqtshscamsvo to uoso augsotmo o acuotmo na pronccao o o cso stmotssvo no roccrsos tamcrass rosclmarau ta polcscao no ar o na aqca gou couo to nosuamauotmo ossos proglouas augsotmass lovarau a prooccpacoos croscotmos cou a scsmotmagslsnano o a tocosssnano no roqclauotmacoos augsotmass  a rovolccao stncsmrsal maugou movo suplscacoos polsmscas o scrqsuotmo na classo mragalbanora stncsmrsalsjana lovoc a ucnatcas tas rolacoos no ponor o a lcma por nsrosmos polsmscos uovsuotmos polsmscos o socsass couo o uovsuotmo carmssma ta stqlamorra gcscavau a auplsacao no schraqso o a uolborsa nas cotnscoos no vsna nos mragalbanoros  to caupo cclmcral a rovolccao stncsmrsal maugou movo cu supacmo ssqtshscamsvo tovas horuas no armo lsmoramcra o ucssca scrqsrau rohlomstno as ucnatcas socsass o moctoloqscas na opoca o uovsuotmo rouatmsco por ofouplo ofploroc os ohosmos na stncsmrsalsjacao ta tamcroja o ta ofporsotcsa bcuata  ou roscuo a rovolccao stncsmrsal hos cu porsono no ucnatcas prohctnas zco movo cu supacmo ncranocro ta socsonano ossas ucnatcas stclcsrau o scrqsuotmo no tovas moctoloqsas ucnatcas tos uomonos no pronccao cotnscoos no mragalbo procarsas proglouas augsotmass ucnatcas polsmscas o mratshoruacoos cclmcrass ougora motba mrajsno ucsmos gotohscsos o avatcos a rovolccao stncsmrsal maugou mrocfo nosahsos o nossqcalnanos zco astna sao nssccmsnos o agornanos tos nsas no boxo\n"
     ]
    }
   ],
   "source": [
    "substituicoes = {}\n",
    "\n",
    "qtde_substituicoes = int(input(\"Quantas substituições você deseja fazer? \"))\n",
    "\n",
    "for _ in range(qtde_substituicoes):\n",
    "    caractere_original = input(\"Digite o caractere original: \")\n",
    "    caractere_substituto = input(\"Digite o caractere substituto: \")\n",
    "    substituicoes[caractere_original] = caractere_substituto\n",
    "\n",
    "texto = input (\"Escreva seu texto aqui:\")\n",
    "\n",
    "tabela_translacao = texto.maketrans(substituicoes)\n",
    "novo_texto = texto.translate(tabela_translacao)\n",
    "\n",
    "print()\n",
    "print(\"Texto com substituições:\")\n",
    "print(novo_texto)"
   ]
  },
  {
   "cell_type": "markdown",
   "id": "63d2e080-a083-4d4d-9dd1-d5fa1416276f",
   "metadata": {},
   "source": [
    "### 3.3. Correção Usando Bibliotecas de Linguagem Natural"
   ]
  },
  {
   "cell_type": "code",
   "execution_count": 17,
   "id": "c810f99b-959d-4c70-bb32-d87d06321000",
   "metadata": {},
   "outputs": [
    {
     "ename": "SyntaxError",
     "evalue": "(unicode error) 'unicodeescape' codec can't decode bytes in position 2-3: truncated \\uXXXX escape (2661040597.py, line 1)",
     "output_type": "error",
     "traceback": [
      "\u001b[1;36m  Cell \u001b[1;32mIn [17], line 1\u001b[1;36m\u001b[0m\n\u001b[1;33m    sys.path.insert(0, 'c:\\users\\maria23015\\appdata\\roaming\\python\\python310\\site-packages')\u001b[0m\n\u001b[1;37m                                                                                           ^\u001b[0m\n\u001b[1;31mSyntaxError\u001b[0m\u001b[1;31m:\u001b[0m (unicode error) 'unicodeescape' codec can't decode bytes in position 2-3: truncated \\uXXXX escape\n"
     ]
    }
   ],
   "source": [
    "path = pandas.read_csv(r\"c:\\users\\maria23015\\appdata\\roaming\\python\\python310\\site-packages\")\n",
    "sys.path.insert(0, p)\n",
    "import nltk\n",
    "#from spellchecker import SpellChecker"
   ]
  },
  {
   "cell_type": "markdown",
   "id": "adfb0d0d-f3f6-4538-894b-645271c4fcf7",
   "metadata": {},
   "source": [
    "### 3.4. Observação"
   ]
  },
  {
   "cell_type": "markdown",
   "id": "3b678eb9-1045-4e96-a6e9-de52936bcc68",
   "metadata": {},
   "source": [
    "É possível fazer isso usando outras línguas, desde que se definam as frequências de letras daquela língua."
   ]
  },
  {
   "cell_type": "markdown",
   "id": "e0b9d486-13ac-49f9-8bac-015e52bead6e",
   "metadata": {},
   "source": [
    "## 4. Máquina Enigma"
   ]
  },
  {
   "cell_type": "markdown",
   "id": "94a45068-a81a-48db-b24d-366346fd773d",
   "metadata": {},
   "source": [
    "### 4.1. A Máquina Enigma"
   ]
  },
  {
   "cell_type": "markdown",
   "id": "adf38cde-65f3-44d6-81df-7ab235c2afdf",
   "metadata": {},
   "source": [
    "### 4.2. Falhas na Frequência de Caracteres"
   ]
  },
  {
   "cell_type": "markdown",
   "id": "116139b1-fab2-4ac8-91e6-69397764fdff",
   "metadata": {},
   "source": [
    "## 5. Referências"
   ]
  },
  {
   "cell_type": "code",
   "execution_count": 15,
   "id": "66008699-9c36-4f2e-9599-8f4b09793778",
   "metadata": {},
   "outputs": [],
   "source": [
    "import os"
   ]
  },
  {
   "cell_type": "code",
   "execution_count": 16,
   "id": "20e52484-3ff9-48ff-bdc8-0a3e1ad0daf5",
   "metadata": {},
   "outputs": [
    {
     "name": "stdout",
     "output_type": "stream",
     "text": [
      "C:\\Users\\Maria23015\n"
     ]
    }
   ],
   "source": [
    "print(os.getcwd())"
   ]
  },
  {
   "cell_type": "code",
   "execution_count": null,
   "id": "8d862822-b78b-4b04-842b-8d3d0e419f99",
   "metadata": {},
   "outputs": [],
   "source": []
  }
 ],
 "metadata": {
  "kernelspec": {
   "display_name": "ilumpy",
   "language": "python",
   "name": "ilumpy"
  },
  "language_info": {
   "codemirror_mode": {
    "name": "ipython",
    "version": 3
   },
   "file_extension": ".py",
   "mimetype": "text/x-python",
   "name": "python",
   "nbconvert_exporter": "python",
   "pygments_lexer": "ipython3",
   "version": "3.10.8"
  }
 },
 "nbformat": 4,
 "nbformat_minor": 5
}
